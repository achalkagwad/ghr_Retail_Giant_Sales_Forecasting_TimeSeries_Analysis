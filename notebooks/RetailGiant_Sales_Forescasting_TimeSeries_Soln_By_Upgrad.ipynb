{
  "nbformat": 4,
  "nbformat_minor": 0,
  "metadata": {
    "kernelspec": {
      "display_name": "Python 3",
      "language": "python",
      "name": "python3"
    },
    "language_info": {
      "codemirror_mode": {
        "name": "ipython",
        "version": 3
      },
      "file_extension": ".py",
      "mimetype": "text/x-python",
      "name": "python",
      "nbconvert_exporter": "python",
      "pygments_lexer": "ipython3",
      "version": "3.7.4"
    },
    "colab": {
      "name": "[updated] Sales+Forecasts+and+MAPE+(All+Models).ipynb",
      "provenance": [],
      "collapsed_sections": []
    }
  },
  "cells": [
    {
      "cell_type": "markdown",
      "metadata": {
        "id": "viOkInsiE5oT"
      },
      "source": [
        "# Retail Giant Sales Forecasting"
      ]
    },
    {
      "cell_type": "markdown",
      "metadata": {
        "id": "c8zEraYLE5oX"
      },
      "source": [
        "Tasks to be done:\n",
        "- First, you need to do data preparation (basically here we need to merge the market and segment columns, and get the dataset in terms of 21 unique market segments. The dataset will have another column “Market Segment” added, along with Order-Date, Market, Segment, Sales, Quantity, Profit). In this step, you will also have to convert the order date into year and month format.\n",
        "- After the initial data preparation, you will then calculate the coefficient of variation values for all the 21 market segments and find the best market segment with least coefficient of variation for profit.\n",
        "- Based on the most profitable market segment found, you will forecast sales and quantity for that market segment. You will first refer to the flow chart and explain which models can be used for forecasting the sales and the quantity depending on your data. Soon you will apply all the models from smoothing techniques and ARIMA techniques and conclude your results on the basis of the forecast plot and the MAPE values. Here, you will also validate your results from the methods you found most suitable using the flowchart.\n",
        "- You will conclude by identifying a best plot from the smoothing technique and one from the Auto Regressive techniques that work well for both the sales and quantity forecast.\n"
      ]
    },
    {
      "cell_type": "markdown",
      "metadata": {
        "id": "rmIawTgaE5oZ"
      },
      "source": [
        "## Importing the Libraries"
      ]
    },
    {
      "cell_type": "code",
      "metadata": {
        "colab": {
          "base_uri": "https://localhost:8080/"
        },
        "id": "ykuS-cyGdhRa",
        "outputId": "39c3dc87-66f5-455f-a92a-df34d085961e"
      },
      "source": [
        "from google.colab import drive\n",
        "\n",
        "drive.mount('/content/drive')"
      ],
      "execution_count": null,
      "outputs": [
        {
          "output_type": "stream",
          "name": "stdout",
          "text": [
            "Drive already mounted at /content/drive; to attempt to forcibly remount, call drive.mount(\"/content/drive\", force_remount=True).\n"
          ]
        }
      ]
    },
    {
      "cell_type": "code",
      "metadata": {
        "id": "dt2wy5byE5ob"
      },
      "source": [
        "import pandas as pd \n",
        "import numpy as np \n",
        "import matplotlib.pyplot as plt\n",
        "%matplotlib inline\n",
        "\n",
        "import warnings\n",
        "warnings.filterwarnings(\"ignore\") # supress warnings"
      ],
      "execution_count": null,
      "outputs": []
    },
    {
      "cell_type": "markdown",
      "metadata": {
        "id": "1CDJGPMwE5oc"
      },
      "source": [
        "## Reading the Dataset"
      ]
    },
    {
      "cell_type": "code",
      "metadata": {
        "id": "MJUI7CANE5od"
      },
      "source": [
        "data = pd.read_csv('/content/drive/My Drive/TSF assignment updated/Global+Superstore+Data.csv')"
      ],
      "execution_count": null,
      "outputs": []
    },
    {
      "cell_type": "code",
      "metadata": {
        "id": "SxrJJrqNE5od",
        "colab": {
          "base_uri": "https://localhost:8080/"
        },
        "outputId": "8c0fcab6-412f-4ce5-d1a8-85a908b6ea1b"
      },
      "source": [
        "data.shape # 51290 transactions and 6 features"
      ],
      "execution_count": null,
      "outputs": [
        {
          "output_type": "execute_result",
          "data": {
            "text/plain": [
              "(51290, 5)"
            ]
          },
          "metadata": {},
          "execution_count": 109
        }
      ]
    },
    {
      "cell_type": "code",
      "metadata": {
        "id": "8wtbBNiGE5oe",
        "colab": {
          "base_uri": "https://localhost:8080/",
          "height": 204
        },
        "outputId": "84f15400-b6b6-43e3-910a-f216a2138fe5"
      },
      "source": [
        "data.head()"
      ],
      "execution_count": null,
      "outputs": [
        {
          "output_type": "execute_result",
          "data": {
            "text/html": [
              "<div>\n",
              "<style scoped>\n",
              "    .dataframe tbody tr th:only-of-type {\n",
              "        vertical-align: middle;\n",
              "    }\n",
              "\n",
              "    .dataframe tbody tr th {\n",
              "        vertical-align: top;\n",
              "    }\n",
              "\n",
              "    .dataframe thead th {\n",
              "        text-align: right;\n",
              "    }\n",
              "</style>\n",
              "<table border=\"1\" class=\"dataframe\">\n",
              "  <thead>\n",
              "    <tr style=\"text-align: right;\">\n",
              "      <th></th>\n",
              "      <th>Order Date</th>\n",
              "      <th>Segment</th>\n",
              "      <th>Market</th>\n",
              "      <th>Sales</th>\n",
              "      <th>Profit</th>\n",
              "    </tr>\n",
              "  </thead>\n",
              "  <tbody>\n",
              "    <tr>\n",
              "      <th>0</th>\n",
              "      <td>31-07-2012</td>\n",
              "      <td>Consumer</td>\n",
              "      <td>US</td>\n",
              "      <td>2309.650</td>\n",
              "      <td>762.1845</td>\n",
              "    </tr>\n",
              "    <tr>\n",
              "      <th>1</th>\n",
              "      <td>05-02-2013</td>\n",
              "      <td>Corporate</td>\n",
              "      <td>APAC</td>\n",
              "      <td>3709.395</td>\n",
              "      <td>-288.7650</td>\n",
              "    </tr>\n",
              "    <tr>\n",
              "      <th>2</th>\n",
              "      <td>17-10-2013</td>\n",
              "      <td>Consumer</td>\n",
              "      <td>APAC</td>\n",
              "      <td>5175.171</td>\n",
              "      <td>919.9710</td>\n",
              "    </tr>\n",
              "    <tr>\n",
              "      <th>3</th>\n",
              "      <td>28-01-2013</td>\n",
              "      <td>Home Office</td>\n",
              "      <td>EU</td>\n",
              "      <td>2892.510</td>\n",
              "      <td>-96.5400</td>\n",
              "    </tr>\n",
              "    <tr>\n",
              "      <th>4</th>\n",
              "      <td>05-11-2013</td>\n",
              "      <td>Consumer</td>\n",
              "      <td>Africa</td>\n",
              "      <td>2832.960</td>\n",
              "      <td>311.5200</td>\n",
              "    </tr>\n",
              "  </tbody>\n",
              "</table>\n",
              "</div>"
            ],
            "text/plain": [
              "   Order Date      Segment  Market     Sales    Profit\n",
              "0  31-07-2012     Consumer      US  2309.650  762.1845\n",
              "1  05-02-2013    Corporate    APAC  3709.395 -288.7650\n",
              "2  17-10-2013     Consumer    APAC  5175.171  919.9710\n",
              "3  28-01-2013  Home Office      EU  2892.510  -96.5400\n",
              "4  05-11-2013     Consumer  Africa  2832.960  311.5200"
            ]
          },
          "metadata": {},
          "execution_count": 110
        }
      ]
    },
    {
      "cell_type": "code",
      "metadata": {
        "id": "3h7cWX0_E5of",
        "colab": {
          "base_uri": "https://localhost:8080/"
        },
        "outputId": "f12d3ed4-9963-4e7b-8152-3aa3ae4148eb"
      },
      "source": [
        "data.info()"
      ],
      "execution_count": null,
      "outputs": [
        {
          "output_type": "stream",
          "name": "stdout",
          "text": [
            "<class 'pandas.core.frame.DataFrame'>\n",
            "RangeIndex: 51290 entries, 0 to 51289\n",
            "Data columns (total 5 columns):\n",
            " #   Column      Non-Null Count  Dtype  \n",
            "---  ------      --------------  -----  \n",
            " 0   Order Date  51290 non-null  object \n",
            " 1   Segment     51290 non-null  object \n",
            " 2   Market      51290 non-null  object \n",
            " 3   Sales       51290 non-null  float64\n",
            " 4   Profit      51290 non-null  float64\n",
            "dtypes: float64(2), object(3)\n",
            "memory usage: 2.0+ MB\n"
          ]
        }
      ]
    },
    {
      "cell_type": "markdown",
      "metadata": {
        "id": "5KCyf-MLE5og"
      },
      "source": [
        "Since we need to do a monthly forecast, we first need to convert the transaction level data to monthly times series data. "
      ]
    },
    {
      "cell_type": "markdown",
      "metadata": {
        "id": "vKReiPODE5og"
      },
      "source": [
        "### Getting the data in the required Month-Year format"
      ]
    },
    {
      "cell_type": "code",
      "metadata": {
        "id": "oiPIOipmE5og"
      },
      "source": [
        "#data['Order Date'] = pd.to_datetime(data['Order Date']).dt.to_period('m')\n",
        "data['Order Date'] = pd.to_datetime(data['Order Date'], format='%d-%m-%Y').dt.to_period('m')"
      ],
      "execution_count": null,
      "outputs": []
    },
    {
      "cell_type": "code",
      "metadata": {
        "id": "gQ9ZooBDE5oh",
        "colab": {
          "base_uri": "https://localhost:8080/",
          "height": 204
        },
        "outputId": "cab06042-b2e9-4980-b95d-737eb442cfea"
      },
      "source": [
        "data.head()"
      ],
      "execution_count": null,
      "outputs": [
        {
          "output_type": "execute_result",
          "data": {
            "text/html": [
              "<div>\n",
              "<style scoped>\n",
              "    .dataframe tbody tr th:only-of-type {\n",
              "        vertical-align: middle;\n",
              "    }\n",
              "\n",
              "    .dataframe tbody tr th {\n",
              "        vertical-align: top;\n",
              "    }\n",
              "\n",
              "    .dataframe thead th {\n",
              "        text-align: right;\n",
              "    }\n",
              "</style>\n",
              "<table border=\"1\" class=\"dataframe\">\n",
              "  <thead>\n",
              "    <tr style=\"text-align: right;\">\n",
              "      <th></th>\n",
              "      <th>Order Date</th>\n",
              "      <th>Segment</th>\n",
              "      <th>Market</th>\n",
              "      <th>Sales</th>\n",
              "      <th>Profit</th>\n",
              "    </tr>\n",
              "  </thead>\n",
              "  <tbody>\n",
              "    <tr>\n",
              "      <th>0</th>\n",
              "      <td>2012-07</td>\n",
              "      <td>Consumer</td>\n",
              "      <td>US</td>\n",
              "      <td>2309.650</td>\n",
              "      <td>762.1845</td>\n",
              "    </tr>\n",
              "    <tr>\n",
              "      <th>1</th>\n",
              "      <td>2013-02</td>\n",
              "      <td>Corporate</td>\n",
              "      <td>APAC</td>\n",
              "      <td>3709.395</td>\n",
              "      <td>-288.7650</td>\n",
              "    </tr>\n",
              "    <tr>\n",
              "      <th>2</th>\n",
              "      <td>2013-10</td>\n",
              "      <td>Consumer</td>\n",
              "      <td>APAC</td>\n",
              "      <td>5175.171</td>\n",
              "      <td>919.9710</td>\n",
              "    </tr>\n",
              "    <tr>\n",
              "      <th>3</th>\n",
              "      <td>2013-01</td>\n",
              "      <td>Home Office</td>\n",
              "      <td>EU</td>\n",
              "      <td>2892.510</td>\n",
              "      <td>-96.5400</td>\n",
              "    </tr>\n",
              "    <tr>\n",
              "      <th>4</th>\n",
              "      <td>2013-11</td>\n",
              "      <td>Consumer</td>\n",
              "      <td>Africa</td>\n",
              "      <td>2832.960</td>\n",
              "      <td>311.5200</td>\n",
              "    </tr>\n",
              "  </tbody>\n",
              "</table>\n",
              "</div>"
            ],
            "text/plain": [
              "  Order Date      Segment  Market     Sales    Profit\n",
              "0    2012-07     Consumer      US  2309.650  762.1845\n",
              "1    2013-02    Corporate    APAC  3709.395 -288.7650\n",
              "2    2013-10     Consumer    APAC  5175.171  919.9710\n",
              "3    2013-01  Home Office      EU  2892.510  -96.5400\n",
              "4    2013-11     Consumer  Africa  2832.960  311.5200"
            ]
          },
          "metadata": {},
          "execution_count": 113
        }
      ]
    },
    {
      "cell_type": "code",
      "metadata": {
        "id": "WBtD2pA_E5oh",
        "colab": {
          "base_uri": "https://localhost:8080/"
        },
        "outputId": "a80230f8-bfef-4423-92cd-c24f173baecb"
      },
      "source": [
        "data.info()"
      ],
      "execution_count": null,
      "outputs": [
        {
          "output_type": "stream",
          "name": "stdout",
          "text": [
            "<class 'pandas.core.frame.DataFrame'>\n",
            "RangeIndex: 51290 entries, 0 to 51289\n",
            "Data columns (total 5 columns):\n",
            " #   Column      Non-Null Count  Dtype    \n",
            "---  ------      --------------  -----    \n",
            " 0   Order Date  51290 non-null  period[M]\n",
            " 1   Segment     51290 non-null  object   \n",
            " 2   Market      51290 non-null  object   \n",
            " 3   Sales       51290 non-null  float64  \n",
            " 4   Profit      51290 non-null  float64  \n",
            "dtypes: float64(2), object(2), period[M](1)\n",
            "memory usage: 2.0+ MB\n"
          ]
        }
      ]
    },
    {
      "cell_type": "markdown",
      "metadata": {
        "id": "gNBpJRyaE5oi"
      },
      "source": [
        "## Merging the market and segment columns"
      ]
    },
    {
      "cell_type": "code",
      "metadata": {
        "id": "K2fxvXuQE5oi",
        "colab": {
          "base_uri": "https://localhost:8080/"
        },
        "outputId": "340b3297-6e18-4dc1-9757-560c99b4837d"
      },
      "source": [
        "data[\"Market\"].unique() # Segments according to geography"
      ],
      "execution_count": null,
      "outputs": [
        {
          "output_type": "execute_result",
          "data": {
            "text/plain": [
              "array(['US', 'APAC', 'EU', 'Africa', 'EMEA', 'LATAM', 'Canada'],\n",
              "      dtype=object)"
            ]
          },
          "metadata": {},
          "execution_count": 115
        }
      ]
    },
    {
      "cell_type": "code",
      "metadata": {
        "id": "TqDm1gFKE5oj",
        "colab": {
          "base_uri": "https://localhost:8080/"
        },
        "outputId": "41f29df9-f9ea-42a7-a57a-2b5c168cb504"
      },
      "source": [
        "data[\"Segment\"].unique() # Segments according to customer"
      ],
      "execution_count": null,
      "outputs": [
        {
          "output_type": "execute_result",
          "data": {
            "text/plain": [
              "array(['Consumer', 'Corporate', 'Home Office'], dtype=object)"
            ]
          },
          "metadata": {},
          "execution_count": 116
        }
      ]
    },
    {
      "cell_type": "code",
      "metadata": {
        "id": "Gqe45DvxE5oj",
        "colab": {
          "base_uri": "https://localhost:8080/",
          "height": 204
        },
        "outputId": "20173395-92f3-4c9d-b9d6-96bc03ec343d"
      },
      "source": [
        "data[\"Concate\"] = data[\"Market\"] + data[\"Segment\"]\n",
        "data.head()"
      ],
      "execution_count": null,
      "outputs": [
        {
          "output_type": "execute_result",
          "data": {
            "text/html": [
              "<div>\n",
              "<style scoped>\n",
              "    .dataframe tbody tr th:only-of-type {\n",
              "        vertical-align: middle;\n",
              "    }\n",
              "\n",
              "    .dataframe tbody tr th {\n",
              "        vertical-align: top;\n",
              "    }\n",
              "\n",
              "    .dataframe thead th {\n",
              "        text-align: right;\n",
              "    }\n",
              "</style>\n",
              "<table border=\"1\" class=\"dataframe\">\n",
              "  <thead>\n",
              "    <tr style=\"text-align: right;\">\n",
              "      <th></th>\n",
              "      <th>Order Date</th>\n",
              "      <th>Segment</th>\n",
              "      <th>Market</th>\n",
              "      <th>Sales</th>\n",
              "      <th>Profit</th>\n",
              "      <th>Concate</th>\n",
              "    </tr>\n",
              "  </thead>\n",
              "  <tbody>\n",
              "    <tr>\n",
              "      <th>0</th>\n",
              "      <td>2012-07</td>\n",
              "      <td>Consumer</td>\n",
              "      <td>US</td>\n",
              "      <td>2309.650</td>\n",
              "      <td>762.1845</td>\n",
              "      <td>USConsumer</td>\n",
              "    </tr>\n",
              "    <tr>\n",
              "      <th>1</th>\n",
              "      <td>2013-02</td>\n",
              "      <td>Corporate</td>\n",
              "      <td>APAC</td>\n",
              "      <td>3709.395</td>\n",
              "      <td>-288.7650</td>\n",
              "      <td>APACCorporate</td>\n",
              "    </tr>\n",
              "    <tr>\n",
              "      <th>2</th>\n",
              "      <td>2013-10</td>\n",
              "      <td>Consumer</td>\n",
              "      <td>APAC</td>\n",
              "      <td>5175.171</td>\n",
              "      <td>919.9710</td>\n",
              "      <td>APACConsumer</td>\n",
              "    </tr>\n",
              "    <tr>\n",
              "      <th>3</th>\n",
              "      <td>2013-01</td>\n",
              "      <td>Home Office</td>\n",
              "      <td>EU</td>\n",
              "      <td>2892.510</td>\n",
              "      <td>-96.5400</td>\n",
              "      <td>EUHome Office</td>\n",
              "    </tr>\n",
              "    <tr>\n",
              "      <th>4</th>\n",
              "      <td>2013-11</td>\n",
              "      <td>Consumer</td>\n",
              "      <td>Africa</td>\n",
              "      <td>2832.960</td>\n",
              "      <td>311.5200</td>\n",
              "      <td>AfricaConsumer</td>\n",
              "    </tr>\n",
              "  </tbody>\n",
              "</table>\n",
              "</div>"
            ],
            "text/plain": [
              "  Order Date      Segment  Market     Sales    Profit         Concate\n",
              "0    2012-07     Consumer      US  2309.650  762.1845      USConsumer\n",
              "1    2013-02    Corporate    APAC  3709.395 -288.7650   APACCorporate\n",
              "2    2013-10     Consumer    APAC  5175.171  919.9710    APACConsumer\n",
              "3    2013-01  Home Office      EU  2892.510  -96.5400   EUHome Office\n",
              "4    2013-11     Consumer  Africa  2832.960  311.5200  AfricaConsumer"
            ]
          },
          "metadata": {},
          "execution_count": 117
        }
      ]
    },
    {
      "cell_type": "code",
      "metadata": {
        "id": "Axj2GeBNE5ok",
        "colab": {
          "base_uri": "https://localhost:8080/"
        },
        "outputId": "4a529b12-fd17-4cf0-a91c-8813b3087337"
      },
      "source": [
        "data['Concate'].unique()"
      ],
      "execution_count": null,
      "outputs": [
        {
          "output_type": "execute_result",
          "data": {
            "text/plain": [
              "array(['USConsumer', 'APACCorporate', 'APACConsumer', 'EUHome Office',\n",
              "       'AfricaConsumer', 'USCorporate', 'EMEAConsumer',\n",
              "       'LATAMHome Office', 'EUCorporate', 'EMEACorporate',\n",
              "       'LATAMConsumer', 'EUConsumer', 'USHome Office', 'LATAMCorporate',\n",
              "       'AfricaCorporate', 'APACHome Office', 'EMEAHome Office',\n",
              "       'AfricaHome Office', 'CanadaCorporate', 'CanadaHome Office',\n",
              "       'CanadaConsumer'], dtype=object)"
            ]
          },
          "metadata": {},
          "execution_count": 118
        }
      ]
    },
    {
      "cell_type": "markdown",
      "metadata": {
        "id": "B-rqAVncE5ok"
      },
      "source": [
        "We have 51290 transactions in this dataset. Instead of transaction level information, we need monthly aggregated data for sales, quantily and profit since only then can we make monthly forecasts."
      ]
    },
    {
      "cell_type": "markdown",
      "metadata": {
        "id": "04y5-sqRE5ol"
      },
      "source": [
        "### Defining a new dataset to get aggregated monthly data for profit to identify which segment to forecast for"
      ]
    },
    {
      "cell_type": "markdown",
      "metadata": {
        "id": "7IUdmi2xE5ol"
      },
      "source": [
        "We need to sum the profits monthwise for each unique segment. "
      ]
    },
    {
      "cell_type": "code",
      "metadata": {
        "id": "OwHMfqWJE5ol",
        "colab": {
          "base_uri": "https://localhost:8080/",
          "height": 204
        },
        "outputId": "36dff1bf-8d61-4a7f-c101-1bb80b0f526e"
      },
      "source": [
        "data.head()"
      ],
      "execution_count": null,
      "outputs": [
        {
          "output_type": "execute_result",
          "data": {
            "text/html": [
              "<div>\n",
              "<style scoped>\n",
              "    .dataframe tbody tr th:only-of-type {\n",
              "        vertical-align: middle;\n",
              "    }\n",
              "\n",
              "    .dataframe tbody tr th {\n",
              "        vertical-align: top;\n",
              "    }\n",
              "\n",
              "    .dataframe thead th {\n",
              "        text-align: right;\n",
              "    }\n",
              "</style>\n",
              "<table border=\"1\" class=\"dataframe\">\n",
              "  <thead>\n",
              "    <tr style=\"text-align: right;\">\n",
              "      <th></th>\n",
              "      <th>Order Date</th>\n",
              "      <th>Segment</th>\n",
              "      <th>Market</th>\n",
              "      <th>Sales</th>\n",
              "      <th>Profit</th>\n",
              "      <th>Concate</th>\n",
              "    </tr>\n",
              "  </thead>\n",
              "  <tbody>\n",
              "    <tr>\n",
              "      <th>0</th>\n",
              "      <td>2012-07</td>\n",
              "      <td>Consumer</td>\n",
              "      <td>US</td>\n",
              "      <td>2309.650</td>\n",
              "      <td>762.1845</td>\n",
              "      <td>USConsumer</td>\n",
              "    </tr>\n",
              "    <tr>\n",
              "      <th>1</th>\n",
              "      <td>2013-02</td>\n",
              "      <td>Corporate</td>\n",
              "      <td>APAC</td>\n",
              "      <td>3709.395</td>\n",
              "      <td>-288.7650</td>\n",
              "      <td>APACCorporate</td>\n",
              "    </tr>\n",
              "    <tr>\n",
              "      <th>2</th>\n",
              "      <td>2013-10</td>\n",
              "      <td>Consumer</td>\n",
              "      <td>APAC</td>\n",
              "      <td>5175.171</td>\n",
              "      <td>919.9710</td>\n",
              "      <td>APACConsumer</td>\n",
              "    </tr>\n",
              "    <tr>\n",
              "      <th>3</th>\n",
              "      <td>2013-01</td>\n",
              "      <td>Home Office</td>\n",
              "      <td>EU</td>\n",
              "      <td>2892.510</td>\n",
              "      <td>-96.5400</td>\n",
              "      <td>EUHome Office</td>\n",
              "    </tr>\n",
              "    <tr>\n",
              "      <th>4</th>\n",
              "      <td>2013-11</td>\n",
              "      <td>Consumer</td>\n",
              "      <td>Africa</td>\n",
              "      <td>2832.960</td>\n",
              "      <td>311.5200</td>\n",
              "      <td>AfricaConsumer</td>\n",
              "    </tr>\n",
              "  </tbody>\n",
              "</table>\n",
              "</div>"
            ],
            "text/plain": [
              "  Order Date      Segment  Market     Sales    Profit         Concate\n",
              "0    2012-07     Consumer      US  2309.650  762.1845      USConsumer\n",
              "1    2013-02    Corporate    APAC  3709.395 -288.7650   APACCorporate\n",
              "2    2013-10     Consumer    APAC  5175.171  919.9710    APACConsumer\n",
              "3    2013-01  Home Office      EU  2892.510  -96.5400   EUHome Office\n",
              "4    2013-11     Consumer  Africa  2832.960  311.5200  AfricaConsumer"
            ]
          },
          "metadata": {},
          "execution_count": 119
        }
      ]
    },
    {
      "cell_type": "code",
      "metadata": {
        "id": "8M_PVQV1E5om"
      },
      "source": [
        "datag = data.pivot_table(index='Order Date', values='Profit', columns='Concate', aggfunc='sum')"
      ],
      "execution_count": null,
      "outputs": []
    },
    {
      "cell_type": "code",
      "metadata": {
        "id": "xyMVn42vE5om",
        "colab": {
          "base_uri": "https://localhost:8080/",
          "height": 289
        },
        "outputId": "2328c7f7-4462-4e88-8fce-043a271187c3"
      },
      "source": [
        "datag.head() # summing the profits according to the months and segments\n",
        "# for each month we have summed profits for each segment"
      ],
      "execution_count": null,
      "outputs": [
        {
          "output_type": "execute_result",
          "data": {
            "text/html": [
              "<div>\n",
              "<style scoped>\n",
              "    .dataframe tbody tr th:only-of-type {\n",
              "        vertical-align: middle;\n",
              "    }\n",
              "\n",
              "    .dataframe tbody tr th {\n",
              "        vertical-align: top;\n",
              "    }\n",
              "\n",
              "    .dataframe thead th {\n",
              "        text-align: right;\n",
              "    }\n",
              "</style>\n",
              "<table border=\"1\" class=\"dataframe\">\n",
              "  <thead>\n",
              "    <tr style=\"text-align: right;\">\n",
              "      <th>Concate</th>\n",
              "      <th>APACConsumer</th>\n",
              "      <th>APACCorporate</th>\n",
              "      <th>APACHome Office</th>\n",
              "      <th>AfricaConsumer</th>\n",
              "      <th>AfricaCorporate</th>\n",
              "      <th>AfricaHome Office</th>\n",
              "      <th>CanadaConsumer</th>\n",
              "      <th>CanadaCorporate</th>\n",
              "      <th>CanadaHome Office</th>\n",
              "      <th>EMEAConsumer</th>\n",
              "      <th>EMEACorporate</th>\n",
              "      <th>EMEAHome Office</th>\n",
              "      <th>EUConsumer</th>\n",
              "      <th>EUCorporate</th>\n",
              "      <th>EUHome Office</th>\n",
              "      <th>LATAMConsumer</th>\n",
              "      <th>LATAMCorporate</th>\n",
              "      <th>LATAMHome Office</th>\n",
              "      <th>USConsumer</th>\n",
              "      <th>USCorporate</th>\n",
              "      <th>USHome Office</th>\n",
              "    </tr>\n",
              "    <tr>\n",
              "      <th>Order Date</th>\n",
              "      <th></th>\n",
              "      <th></th>\n",
              "      <th></th>\n",
              "      <th></th>\n",
              "      <th></th>\n",
              "      <th></th>\n",
              "      <th></th>\n",
              "      <th></th>\n",
              "      <th></th>\n",
              "      <th></th>\n",
              "      <th></th>\n",
              "      <th></th>\n",
              "      <th></th>\n",
              "      <th></th>\n",
              "      <th></th>\n",
              "      <th></th>\n",
              "      <th></th>\n",
              "      <th></th>\n",
              "      <th></th>\n",
              "      <th></th>\n",
              "      <th></th>\n",
              "    </tr>\n",
              "  </thead>\n",
              "  <tbody>\n",
              "    <tr>\n",
              "      <th>2011-01</th>\n",
              "      <td>991.2825</td>\n",
              "      <td>11.5998</td>\n",
              "      <td>86.4423</td>\n",
              "      <td>475.683</td>\n",
              "      <td>219.096</td>\n",
              "      <td>856.710</td>\n",
              "      <td>3.12</td>\n",
              "      <td>5.7</td>\n",
              "      <td>NaN</td>\n",
              "      <td>-2099.364</td>\n",
              "      <td>1555.512</td>\n",
              "      <td>116.400</td>\n",
              "      <td>-845.8290</td>\n",
              "      <td>501.9315</td>\n",
              "      <td>975.360</td>\n",
              "      <td>1976.98976</td>\n",
              "      <td>1150.88400</td>\n",
              "      <td>-106.48800</td>\n",
              "      <td>762.8067</td>\n",
              "      <td>300.9145</td>\n",
              "      <td>1383.0499</td>\n",
              "    </tr>\n",
              "    <tr>\n",
              "      <th>2011-02</th>\n",
              "      <td>1338.8688</td>\n",
              "      <td>4358.8254</td>\n",
              "      <td>-417.4128</td>\n",
              "      <td>1441.926</td>\n",
              "      <td>-490.551</td>\n",
              "      <td>820.302</td>\n",
              "      <td>23.31</td>\n",
              "      <td>NaN</td>\n",
              "      <td>87.99</td>\n",
              "      <td>267.060</td>\n",
              "      <td>982.092</td>\n",
              "      <td>216.690</td>\n",
              "      <td>-1808.1180</td>\n",
              "      <td>2988.4065</td>\n",
              "      <td>-181.041</td>\n",
              "      <td>902.37752</td>\n",
              "      <td>721.25420</td>\n",
              "      <td>300.19936</td>\n",
              "      <td>500.2865</td>\n",
              "      <td>307.2995</td>\n",
              "      <td>58.1420</td>\n",
              "    </tr>\n",
              "    <tr>\n",
              "      <th>2011-03</th>\n",
              "      <td>3747.1632</td>\n",
              "      <td>1213.3386</td>\n",
              "      <td>923.7492</td>\n",
              "      <td>322.140</td>\n",
              "      <td>-586.716</td>\n",
              "      <td>67.320</td>\n",
              "      <td>335.55</td>\n",
              "      <td>NaN</td>\n",
              "      <td>84.03</td>\n",
              "      <td>1598.718</td>\n",
              "      <td>390.102</td>\n",
              "      <td>78.972</td>\n",
              "      <td>2480.5410</td>\n",
              "      <td>736.9890</td>\n",
              "      <td>503.223</td>\n",
              "      <td>2585.17924</td>\n",
              "      <td>39.07512</td>\n",
              "      <td>285.46400</td>\n",
              "      <td>597.2773</td>\n",
              "      <td>333.0515</td>\n",
              "      <td>-431.5989</td>\n",
              "    </tr>\n",
              "    <tr>\n",
              "      <th>2011-04</th>\n",
              "      <td>3846.4746</td>\n",
              "      <td>71.0265</td>\n",
              "      <td>657.1080</td>\n",
              "      <td>292.122</td>\n",
              "      <td>776.691</td>\n",
              "      <td>500.136</td>\n",
              "      <td>55.08</td>\n",
              "      <td>NaN</td>\n",
              "      <td>NaN</td>\n",
              "      <td>-300.879</td>\n",
              "      <td>93.900</td>\n",
              "      <td>-420.090</td>\n",
              "      <td>2496.6405</td>\n",
              "      <td>1056.1785</td>\n",
              "      <td>63.858</td>\n",
              "      <td>387.72148</td>\n",
              "      <td>259.25600</td>\n",
              "      <td>-421.73440</td>\n",
              "      <td>1155.0757</td>\n",
              "      <td>1393.3828</td>\n",
              "      <td>940.3767</td>\n",
              "    </tr>\n",
              "    <tr>\n",
              "      <th>2011-05</th>\n",
              "      <td>3639.9423</td>\n",
              "      <td>2534.1672</td>\n",
              "      <td>-272.1717</td>\n",
              "      <td>110.004</td>\n",
              "      <td>241.338</td>\n",
              "      <td>34.926</td>\n",
              "      <td>77.97</td>\n",
              "      <td>NaN</td>\n",
              "      <td>NaN</td>\n",
              "      <td>568.302</td>\n",
              "      <td>-24.270</td>\n",
              "      <td>262.968</td>\n",
              "      <td>254.0805</td>\n",
              "      <td>1586.2740</td>\n",
              "      <td>201.102</td>\n",
              "      <td>1002.34724</td>\n",
              "      <td>-531.74444</td>\n",
              "      <td>-240.11600</td>\n",
              "      <td>698.9171</td>\n",
              "      <td>2063.5013</td>\n",
              "      <td>-23.7088</td>\n",
              "    </tr>\n",
              "  </tbody>\n",
              "</table>\n",
              "</div>"
            ],
            "text/plain": [
              "Concate     APACConsumer  APACCorporate  ...  USCorporate  USHome Office\n",
              "Order Date                               ...                            \n",
              "2011-01         991.2825        11.5998  ...     300.9145      1383.0499\n",
              "2011-02        1338.8688      4358.8254  ...     307.2995        58.1420\n",
              "2011-03        3747.1632      1213.3386  ...     333.0515      -431.5989\n",
              "2011-04        3846.4746        71.0265  ...    1393.3828       940.3767\n",
              "2011-05        3639.9423      2534.1672  ...    2063.5013       -23.7088\n",
              "\n",
              "[5 rows x 21 columns]"
            ]
          },
          "metadata": {},
          "execution_count": 121
        }
      ]
    },
    {
      "cell_type": "code",
      "metadata": {
        "id": "c6-PEijuE5on",
        "colab": {
          "base_uri": "https://localhost:8080/"
        },
        "outputId": "4e6bfc40-aa40-4ae8-be4c-9ae1b45b0f9d"
      },
      "source": [
        "datag.shape # 48 months i.e. 4 years"
      ],
      "execution_count": null,
      "outputs": [
        {
          "output_type": "execute_result",
          "data": {
            "text/plain": [
              "(48, 21)"
            ]
          },
          "metadata": {},
          "execution_count": 122
        }
      ]
    },
    {
      "cell_type": "markdown",
      "metadata": {
        "id": "mbt6_85uE5on"
      },
      "source": [
        "### How do we choose the segment with the best profit and minimum variability"
      ]
    },
    {
      "cell_type": "markdown",
      "metadata": {
        "id": "LDjmendeE5on"
      },
      "source": [
        "When you have huge differences in means and want to compare their variation, it would be better to take the coefficient of variation, because it normalizes the standard deviation with respect to the mean. "
      ]
    },
    {
      "cell_type": "markdown",
      "metadata": {
        "id": "W55G_AezE5oo"
      },
      "source": [
        "We do not want to consider the entire dataset to get the CoV since we will need to keep a part of the dataset aside for validation. "
      ]
    },
    {
      "cell_type": "code",
      "metadata": {
        "id": "AoqrTMKRE5oo"
      },
      "source": [
        "#splitting the dataset into train and test for calculation for cov\n",
        "train_len = 42\n",
        "train_datag = datag[0:train_len] # 42 months data used for training\n",
        "test_datag = datag[train_len:] # 6 months data for validation\n",
        "# No sampling done here - for time series data, maintaining the sequence is important"
      ],
      "execution_count": null,
      "outputs": []
    },
    {
      "cell_type": "code",
      "metadata": {
        "id": "4Bf2WsomE5op",
        "colab": {
          "base_uri": "https://localhost:8080/"
        },
        "outputId": "743487b7-649b-4592-c6ba-6c4812eee4cd"
      },
      "source": [
        "train_datag.mean()"
      ],
      "execution_count": null,
      "outputs": [
        {
          "output_type": "execute_result",
          "data": {
            "text/plain": [
              "Concate\n",
              "APACConsumer         4223.553586\n",
              "APACCorporate        2556.998957\n",
              "APACHome Office      1379.120743\n",
              "AfricaConsumer        798.898929\n",
              "AfricaCorporate       426.027286\n",
              "AfricaHome Office     333.002143\n",
              "CanadaConsumer        230.067500\n",
              "CanadaCorporate       110.377500\n",
              "CanadaHome Office     138.247500\n",
              "EMEAConsumer          415.354786\n",
              "EMEACorporate         172.274500\n",
              "EMEAHome Office       123.249214\n",
              "EUConsumer           3627.517036\n",
              "EUCorporate          2251.993036\n",
              "EUHome Office        1097.441500\n",
              "LATAMConsumer        2252.677529\n",
              "LATAMCorporate       1075.994223\n",
              "LATAMHome Office      788.531853\n",
              "USConsumer           2603.736252\n",
              "USCorporate          1853.568607\n",
              "USHome Office        1062.397424\n",
              "dtype: float64"
            ]
          },
          "metadata": {},
          "execution_count": 124
        }
      ]
    },
    {
      "cell_type": "code",
      "metadata": {
        "id": "6baJwUTFE5or",
        "colab": {
          "base_uri": "https://localhost:8080/"
        },
        "outputId": "42057e0f-90b4-408c-9226-120872aad026"
      },
      "source": [
        "np.std(train_datag)"
      ],
      "execution_count": null,
      "outputs": [
        {
          "output_type": "execute_result",
          "data": {
            "text/plain": [
              "Concate\n",
              "APACConsumer         2518.944225\n",
              "APACCorporate        1871.535073\n",
              "APACHome Office      1446.445137\n",
              "AfricaConsumer       1141.894252\n",
              "AfricaCorporate       709.261893\n",
              "AfricaHome Office     662.629728\n",
              "CanadaConsumer        339.601099\n",
              "CanadaCorporate       132.146175\n",
              "CanadaHome Office     302.526945\n",
              "EMEAConsumer         1128.515779\n",
              "EMEACorporate        1167.958953\n",
              "EMEAHome Office       747.714036\n",
              "EUConsumer           2348.762579\n",
              "EUCorporate          1552.403019\n",
              "EUHome Office        1223.296718\n",
              "LATAMConsumer        1533.362508\n",
              "LATAMCorporate        947.154491\n",
              "LATAMHome Office     1059.547064\n",
              "USConsumer           2851.858407\n",
              "USCorporate          1904.002356\n",
              "USHome Office        1293.079478\n",
              "dtype: float64"
            ]
          },
          "metadata": {},
          "execution_count": 125
        }
      ]
    },
    {
      "cell_type": "code",
      "metadata": {
        "id": "M929jC29E5os",
        "colab": {
          "base_uri": "https://localhost:8080/"
        },
        "outputId": "a69a8adc-eae1-4b38-e28c-4819f1662393"
      },
      "source": [
        "np.std(train_datag)/train_datag.mean()"
      ],
      "execution_count": null,
      "outputs": [
        {
          "output_type": "execute_result",
          "data": {
            "text/plain": [
              "Concate\n",
              "APACConsumer         0.596404\n",
              "APACCorporate        0.731926\n",
              "APACHome Office      1.048817\n",
              "AfricaConsumer       1.429335\n",
              "AfricaCorporate      1.664827\n",
              "AfricaHome Office    1.989866\n",
              "CanadaConsumer       1.476093\n",
              "CanadaCorporate      1.197220\n",
              "CanadaHome Office    2.188300\n",
              "EMEAConsumer         2.716992\n",
              "EMEACorporate        6.779639\n",
              "EMEAHome Office      6.066684\n",
              "EUConsumer           0.647485\n",
              "EUCorporate          0.689346\n",
              "EUHome Office        1.114681\n",
              "LATAMConsumer        0.680684\n",
              "LATAMCorporate       0.880260\n",
              "LATAMHome Office     1.343696\n",
              "USConsumer           1.095295\n",
              "USCorporate          1.027209\n",
              "USHome Office        1.217133\n",
              "dtype: float64"
            ]
          },
          "metadata": {},
          "execution_count": 126
        }
      ]
    },
    {
      "cell_type": "code",
      "metadata": {
        "id": "tkhBhY_kE5os"
      },
      "source": [
        "covs = pd.DataFrame(columns = ['Segment', 'CoV']) # Initializing a dataframe with two columns"
      ],
      "execution_count": null,
      "outputs": []
    },
    {
      "cell_type": "code",
      "metadata": {
        "id": "3Xem4PguE5ot"
      },
      "source": [
        "# writing a loop for cov values for all market segments\n",
        "for i in datag.columns:\n",
        "    #print(i)\n",
        "    temp = {\"Segment\": i, \"CoV\": np.std(train_datag[i])/np.mean(train_datag[i])}\n",
        "    covs = covs.append(temp, ignore_index=True)"
      ],
      "execution_count": null,
      "outputs": []
    },
    {
      "cell_type": "code",
      "metadata": {
        "id": "mSIIv-j0E5ot",
        "colab": {
          "base_uri": "https://localhost:8080/",
          "height": 204
        },
        "outputId": "466183eb-182d-42c5-e891-4362a11268e2"
      },
      "source": [
        "covs.head()"
      ],
      "execution_count": null,
      "outputs": [
        {
          "output_type": "execute_result",
          "data": {
            "text/html": [
              "<div>\n",
              "<style scoped>\n",
              "    .dataframe tbody tr th:only-of-type {\n",
              "        vertical-align: middle;\n",
              "    }\n",
              "\n",
              "    .dataframe tbody tr th {\n",
              "        vertical-align: top;\n",
              "    }\n",
              "\n",
              "    .dataframe thead th {\n",
              "        text-align: right;\n",
              "    }\n",
              "</style>\n",
              "<table border=\"1\" class=\"dataframe\">\n",
              "  <thead>\n",
              "    <tr style=\"text-align: right;\">\n",
              "      <th></th>\n",
              "      <th>Segment</th>\n",
              "      <th>CoV</th>\n",
              "    </tr>\n",
              "  </thead>\n",
              "  <tbody>\n",
              "    <tr>\n",
              "      <th>0</th>\n",
              "      <td>APACConsumer</td>\n",
              "      <td>0.596404</td>\n",
              "    </tr>\n",
              "    <tr>\n",
              "      <th>1</th>\n",
              "      <td>APACCorporate</td>\n",
              "      <td>0.731926</td>\n",
              "    </tr>\n",
              "    <tr>\n",
              "      <th>2</th>\n",
              "      <td>APACHome Office</td>\n",
              "      <td>1.048817</td>\n",
              "    </tr>\n",
              "    <tr>\n",
              "      <th>3</th>\n",
              "      <td>AfricaConsumer</td>\n",
              "      <td>1.429335</td>\n",
              "    </tr>\n",
              "    <tr>\n",
              "      <th>4</th>\n",
              "      <td>AfricaCorporate</td>\n",
              "      <td>1.664827</td>\n",
              "    </tr>\n",
              "  </tbody>\n",
              "</table>\n",
              "</div>"
            ],
            "text/plain": [
              "           Segment       CoV\n",
              "0     APACConsumer  0.596404\n",
              "1    APACCorporate  0.731926\n",
              "2  APACHome Office  1.048817\n",
              "3   AfricaConsumer  1.429335\n",
              "4  AfricaCorporate  1.664827"
            ]
          },
          "metadata": {},
          "execution_count": 129
        }
      ]
    },
    {
      "cell_type": "code",
      "metadata": {
        "id": "TvnX9jsBE5ou",
        "colab": {
          "base_uri": "https://localhost:8080/",
          "height": 700
        },
        "outputId": "9d32a5cb-3e0e-481f-e269-2f134a22ece2"
      },
      "source": [
        "#listing cov values in the order of their market segments\n",
        "covs.sort_values(by='CoV')"
      ],
      "execution_count": null,
      "outputs": [
        {
          "output_type": "execute_result",
          "data": {
            "text/html": [
              "<div>\n",
              "<style scoped>\n",
              "    .dataframe tbody tr th:only-of-type {\n",
              "        vertical-align: middle;\n",
              "    }\n",
              "\n",
              "    .dataframe tbody tr th {\n",
              "        vertical-align: top;\n",
              "    }\n",
              "\n",
              "    .dataframe thead th {\n",
              "        text-align: right;\n",
              "    }\n",
              "</style>\n",
              "<table border=\"1\" class=\"dataframe\">\n",
              "  <thead>\n",
              "    <tr style=\"text-align: right;\">\n",
              "      <th></th>\n",
              "      <th>Segment</th>\n",
              "      <th>CoV</th>\n",
              "    </tr>\n",
              "  </thead>\n",
              "  <tbody>\n",
              "    <tr>\n",
              "      <th>0</th>\n",
              "      <td>APACConsumer</td>\n",
              "      <td>0.596404</td>\n",
              "    </tr>\n",
              "    <tr>\n",
              "      <th>12</th>\n",
              "      <td>EUConsumer</td>\n",
              "      <td>0.647485</td>\n",
              "    </tr>\n",
              "    <tr>\n",
              "      <th>15</th>\n",
              "      <td>LATAMConsumer</td>\n",
              "      <td>0.680684</td>\n",
              "    </tr>\n",
              "    <tr>\n",
              "      <th>13</th>\n",
              "      <td>EUCorporate</td>\n",
              "      <td>0.689346</td>\n",
              "    </tr>\n",
              "    <tr>\n",
              "      <th>1</th>\n",
              "      <td>APACCorporate</td>\n",
              "      <td>0.731926</td>\n",
              "    </tr>\n",
              "    <tr>\n",
              "      <th>16</th>\n",
              "      <td>LATAMCorporate</td>\n",
              "      <td>0.880260</td>\n",
              "    </tr>\n",
              "    <tr>\n",
              "      <th>19</th>\n",
              "      <td>USCorporate</td>\n",
              "      <td>1.027209</td>\n",
              "    </tr>\n",
              "    <tr>\n",
              "      <th>2</th>\n",
              "      <td>APACHome Office</td>\n",
              "      <td>1.048817</td>\n",
              "    </tr>\n",
              "    <tr>\n",
              "      <th>18</th>\n",
              "      <td>USConsumer</td>\n",
              "      <td>1.095295</td>\n",
              "    </tr>\n",
              "    <tr>\n",
              "      <th>14</th>\n",
              "      <td>EUHome Office</td>\n",
              "      <td>1.114681</td>\n",
              "    </tr>\n",
              "    <tr>\n",
              "      <th>7</th>\n",
              "      <td>CanadaCorporate</td>\n",
              "      <td>1.197220</td>\n",
              "    </tr>\n",
              "    <tr>\n",
              "      <th>20</th>\n",
              "      <td>USHome Office</td>\n",
              "      <td>1.217133</td>\n",
              "    </tr>\n",
              "    <tr>\n",
              "      <th>17</th>\n",
              "      <td>LATAMHome Office</td>\n",
              "      <td>1.343696</td>\n",
              "    </tr>\n",
              "    <tr>\n",
              "      <th>3</th>\n",
              "      <td>AfricaConsumer</td>\n",
              "      <td>1.429335</td>\n",
              "    </tr>\n",
              "    <tr>\n",
              "      <th>6</th>\n",
              "      <td>CanadaConsumer</td>\n",
              "      <td>1.476093</td>\n",
              "    </tr>\n",
              "    <tr>\n",
              "      <th>4</th>\n",
              "      <td>AfricaCorporate</td>\n",
              "      <td>1.664827</td>\n",
              "    </tr>\n",
              "    <tr>\n",
              "      <th>5</th>\n",
              "      <td>AfricaHome Office</td>\n",
              "      <td>1.989866</td>\n",
              "    </tr>\n",
              "    <tr>\n",
              "      <th>8</th>\n",
              "      <td>CanadaHome Office</td>\n",
              "      <td>2.188300</td>\n",
              "    </tr>\n",
              "    <tr>\n",
              "      <th>9</th>\n",
              "      <td>EMEAConsumer</td>\n",
              "      <td>2.716992</td>\n",
              "    </tr>\n",
              "    <tr>\n",
              "      <th>11</th>\n",
              "      <td>EMEAHome Office</td>\n",
              "      <td>6.066684</td>\n",
              "    </tr>\n",
              "    <tr>\n",
              "      <th>10</th>\n",
              "      <td>EMEACorporate</td>\n",
              "      <td>6.779639</td>\n",
              "    </tr>\n",
              "  </tbody>\n",
              "</table>\n",
              "</div>"
            ],
            "text/plain": [
              "              Segment       CoV\n",
              "0        APACConsumer  0.596404\n",
              "12         EUConsumer  0.647485\n",
              "15      LATAMConsumer  0.680684\n",
              "13        EUCorporate  0.689346\n",
              "1       APACCorporate  0.731926\n",
              "16     LATAMCorporate  0.880260\n",
              "19        USCorporate  1.027209\n",
              "2     APACHome Office  1.048817\n",
              "18         USConsumer  1.095295\n",
              "14      EUHome Office  1.114681\n",
              "7     CanadaCorporate  1.197220\n",
              "20      USHome Office  1.217133\n",
              "17   LATAMHome Office  1.343696\n",
              "3      AfricaConsumer  1.429335\n",
              "6      CanadaConsumer  1.476093\n",
              "4     AfricaCorporate  1.664827\n",
              "5   AfricaHome Office  1.989866\n",
              "8   CanadaHome Office  2.188300\n",
              "9        EMEAConsumer  2.716992\n",
              "11    EMEAHome Office  6.066684\n",
              "10      EMEACorporate  6.779639"
            ]
          },
          "metadata": {},
          "execution_count": 130
        }
      ]
    },
    {
      "cell_type": "markdown",
      "metadata": {
        "id": "Pd09pwo8E5ou"
      },
      "source": [
        "We prefer the segment with the lowest CoV value since this segment gives the relatively stable profit over the past months which will lead to reliable forecasts."
      ]
    },
    {
      "cell_type": "markdown",
      "metadata": {
        "id": "ScqIUXHBE5ov"
      },
      "source": [
        "We will extract data only for APACConsumer and forecast the sales and quatity only for this segment."
      ]
    },
    {
      "cell_type": "markdown",
      "metadata": {
        "id": "9lw0e9G4E5ov"
      },
      "source": [
        "## Subsetting only the rows for APACConsumer"
      ]
    },
    {
      "cell_type": "markdown",
      "metadata": {
        "id": "joy7KQbDE5ov"
      },
      "source": [
        "From here we will consider only the APACConsumer segment to forecast the 6 month sales and quantity."
      ]
    },
    {
      "cell_type": "code",
      "metadata": {
        "id": "AjlWZNQ7E5ov",
        "colab": {
          "base_uri": "https://localhost:8080/",
          "height": 204
        },
        "outputId": "a135fae6-c918-4090-b527-e9f44b9dffb0"
      },
      "source": [
        "data1 = data.loc[data.Concate == 'APACConsumer'] # Subsetting the original data\n",
        "data1.head()"
      ],
      "execution_count": null,
      "outputs": [
        {
          "output_type": "execute_result",
          "data": {
            "text/html": [
              "<div>\n",
              "<style scoped>\n",
              "    .dataframe tbody tr th:only-of-type {\n",
              "        vertical-align: middle;\n",
              "    }\n",
              "\n",
              "    .dataframe tbody tr th {\n",
              "        vertical-align: top;\n",
              "    }\n",
              "\n",
              "    .dataframe thead th {\n",
              "        text-align: right;\n",
              "    }\n",
              "</style>\n",
              "<table border=\"1\" class=\"dataframe\">\n",
              "  <thead>\n",
              "    <tr style=\"text-align: right;\">\n",
              "      <th></th>\n",
              "      <th>Order Date</th>\n",
              "      <th>Segment</th>\n",
              "      <th>Market</th>\n",
              "      <th>Sales</th>\n",
              "      <th>Profit</th>\n",
              "      <th>Concate</th>\n",
              "    </tr>\n",
              "  </thead>\n",
              "  <tbody>\n",
              "    <tr>\n",
              "      <th>2</th>\n",
              "      <td>2013-10</td>\n",
              "      <td>Consumer</td>\n",
              "      <td>APAC</td>\n",
              "      <td>5175.171</td>\n",
              "      <td>919.971</td>\n",
              "      <td>APACConsumer</td>\n",
              "    </tr>\n",
              "    <tr>\n",
              "      <th>6</th>\n",
              "      <td>2011-11</td>\n",
              "      <td>Consumer</td>\n",
              "      <td>APAC</td>\n",
              "      <td>1822.080</td>\n",
              "      <td>564.840</td>\n",
              "      <td>APACConsumer</td>\n",
              "    </tr>\n",
              "    <tr>\n",
              "      <th>7</th>\n",
              "      <td>2012-04</td>\n",
              "      <td>Consumer</td>\n",
              "      <td>APAC</td>\n",
              "      <td>5244.840</td>\n",
              "      <td>996.480</td>\n",
              "      <td>APACConsumer</td>\n",
              "    </tr>\n",
              "    <tr>\n",
              "      <th>14</th>\n",
              "      <td>2013-06</td>\n",
              "      <td>Consumer</td>\n",
              "      <td>APAC</td>\n",
              "      <td>3701.520</td>\n",
              "      <td>1036.080</td>\n",
              "      <td>APACConsumer</td>\n",
              "    </tr>\n",
              "    <tr>\n",
              "      <th>29</th>\n",
              "      <td>2012-02</td>\n",
              "      <td>Consumer</td>\n",
              "      <td>APAC</td>\n",
              "      <td>1878.720</td>\n",
              "      <td>582.360</td>\n",
              "      <td>APACConsumer</td>\n",
              "    </tr>\n",
              "  </tbody>\n",
              "</table>\n",
              "</div>"
            ],
            "text/plain": [
              "   Order Date   Segment Market     Sales    Profit       Concate\n",
              "2     2013-10  Consumer   APAC  5175.171   919.971  APACConsumer\n",
              "6     2011-11  Consumer   APAC  1822.080   564.840  APACConsumer\n",
              "7     2012-04  Consumer   APAC  5244.840   996.480  APACConsumer\n",
              "14    2013-06  Consumer   APAC  3701.520  1036.080  APACConsumer\n",
              "29    2012-02  Consumer   APAC  1878.720   582.360  APACConsumer"
            ]
          },
          "metadata": {},
          "execution_count": 131
        }
      ]
    },
    {
      "cell_type": "code",
      "metadata": {
        "id": "sN7aQwwsE5ow",
        "colab": {
          "base_uri": "https://localhost:8080/"
        },
        "outputId": "23058858-f2db-482d-af9a-91668188e95e"
      },
      "source": [
        "data1.shape "
      ],
      "execution_count": null,
      "outputs": [
        {
          "output_type": "execute_result",
          "data": {
            "text/plain": [
              "(5699, 6)"
            ]
          },
          "metadata": {},
          "execution_count": 132
        }
      ]
    },
    {
      "cell_type": "code",
      "metadata": {
        "id": "U0iBQzSAE5ow",
        "colab": {
          "base_uri": "https://localhost:8080/",
          "height": 204
        },
        "outputId": "14414b00-1f51-4c5b-b733-ccee56bdb3ae"
      },
      "source": [
        "data1.head()"
      ],
      "execution_count": null,
      "outputs": [
        {
          "output_type": "execute_result",
          "data": {
            "text/html": [
              "<div>\n",
              "<style scoped>\n",
              "    .dataframe tbody tr th:only-of-type {\n",
              "        vertical-align: middle;\n",
              "    }\n",
              "\n",
              "    .dataframe tbody tr th {\n",
              "        vertical-align: top;\n",
              "    }\n",
              "\n",
              "    .dataframe thead th {\n",
              "        text-align: right;\n",
              "    }\n",
              "</style>\n",
              "<table border=\"1\" class=\"dataframe\">\n",
              "  <thead>\n",
              "    <tr style=\"text-align: right;\">\n",
              "      <th></th>\n",
              "      <th>Order Date</th>\n",
              "      <th>Segment</th>\n",
              "      <th>Market</th>\n",
              "      <th>Sales</th>\n",
              "      <th>Profit</th>\n",
              "      <th>Concate</th>\n",
              "    </tr>\n",
              "  </thead>\n",
              "  <tbody>\n",
              "    <tr>\n",
              "      <th>2</th>\n",
              "      <td>2013-10</td>\n",
              "      <td>Consumer</td>\n",
              "      <td>APAC</td>\n",
              "      <td>5175.171</td>\n",
              "      <td>919.971</td>\n",
              "      <td>APACConsumer</td>\n",
              "    </tr>\n",
              "    <tr>\n",
              "      <th>6</th>\n",
              "      <td>2011-11</td>\n",
              "      <td>Consumer</td>\n",
              "      <td>APAC</td>\n",
              "      <td>1822.080</td>\n",
              "      <td>564.840</td>\n",
              "      <td>APACConsumer</td>\n",
              "    </tr>\n",
              "    <tr>\n",
              "      <th>7</th>\n",
              "      <td>2012-04</td>\n",
              "      <td>Consumer</td>\n",
              "      <td>APAC</td>\n",
              "      <td>5244.840</td>\n",
              "      <td>996.480</td>\n",
              "      <td>APACConsumer</td>\n",
              "    </tr>\n",
              "    <tr>\n",
              "      <th>14</th>\n",
              "      <td>2013-06</td>\n",
              "      <td>Consumer</td>\n",
              "      <td>APAC</td>\n",
              "      <td>3701.520</td>\n",
              "      <td>1036.080</td>\n",
              "      <td>APACConsumer</td>\n",
              "    </tr>\n",
              "    <tr>\n",
              "      <th>29</th>\n",
              "      <td>2012-02</td>\n",
              "      <td>Consumer</td>\n",
              "      <td>APAC</td>\n",
              "      <td>1878.720</td>\n",
              "      <td>582.360</td>\n",
              "      <td>APACConsumer</td>\n",
              "    </tr>\n",
              "  </tbody>\n",
              "</table>\n",
              "</div>"
            ],
            "text/plain": [
              "   Order Date   Segment Market     Sales    Profit       Concate\n",
              "2     2013-10  Consumer   APAC  5175.171   919.971  APACConsumer\n",
              "6     2011-11  Consumer   APAC  1822.080   564.840  APACConsumer\n",
              "7     2012-04  Consumer   APAC  5244.840   996.480  APACConsumer\n",
              "14    2013-06  Consumer   APAC  3701.520  1036.080  APACConsumer\n",
              "29    2012-02  Consumer   APAC  1878.720   582.360  APACConsumer"
            ]
          },
          "metadata": {},
          "execution_count": 133
        }
      ]
    },
    {
      "cell_type": "code",
      "metadata": {
        "id": "3dzv2PZyE5ow"
      },
      "source": [
        "#grouping all the order dates and arranging them since it is transaction level data and we need monthly aggregated data\n",
        "data1 = data1.groupby(['Order Date']).sum()"
      ],
      "execution_count": null,
      "outputs": []
    },
    {
      "cell_type": "code",
      "metadata": {
        "id": "r8Gr2X_DE5ox",
        "colab": {
          "base_uri": "https://localhost:8080/"
        },
        "outputId": "727cde68-f80e-4c50-f47b-48b7f3066a9c"
      },
      "source": [
        "data1.shape"
      ],
      "execution_count": null,
      "outputs": [
        {
          "output_type": "execute_result",
          "data": {
            "text/plain": [
              "(48, 2)"
            ]
          },
          "metadata": {},
          "execution_count": 135
        }
      ]
    },
    {
      "cell_type": "code",
      "metadata": {
        "id": "ZlRR3bLDE5ox",
        "colab": {
          "base_uri": "https://localhost:8080/",
          "height": 1000
        },
        "outputId": "1c6efd0f-9955-4db4-d192-c98f6d4e959e"
      },
      "source": [
        "data1"
      ],
      "execution_count": null,
      "outputs": [
        {
          "output_type": "execute_result",
          "data": {
            "text/html": [
              "<div>\n",
              "<style scoped>\n",
              "    .dataframe tbody tr th:only-of-type {\n",
              "        vertical-align: middle;\n",
              "    }\n",
              "\n",
              "    .dataframe tbody tr th {\n",
              "        vertical-align: top;\n",
              "    }\n",
              "\n",
              "    .dataframe thead th {\n",
              "        text-align: right;\n",
              "    }\n",
              "</style>\n",
              "<table border=\"1\" class=\"dataframe\">\n",
              "  <thead>\n",
              "    <tr style=\"text-align: right;\">\n",
              "      <th></th>\n",
              "      <th>Sales</th>\n",
              "      <th>Profit</th>\n",
              "    </tr>\n",
              "    <tr>\n",
              "      <th>Order Date</th>\n",
              "      <th></th>\n",
              "      <th></th>\n",
              "    </tr>\n",
              "  </thead>\n",
              "  <tbody>\n",
              "    <tr>\n",
              "      <th>2011-01</th>\n",
              "      <td>15711.7125</td>\n",
              "      <td>991.2825</td>\n",
              "    </tr>\n",
              "    <tr>\n",
              "      <th>2011-02</th>\n",
              "      <td>12910.8588</td>\n",
              "      <td>1338.8688</td>\n",
              "    </tr>\n",
              "    <tr>\n",
              "      <th>2011-03</th>\n",
              "      <td>19472.5632</td>\n",
              "      <td>3747.1632</td>\n",
              "    </tr>\n",
              "    <tr>\n",
              "      <th>2011-04</th>\n",
              "      <td>15440.3046</td>\n",
              "      <td>3846.4746</td>\n",
              "    </tr>\n",
              "    <tr>\n",
              "      <th>2011-05</th>\n",
              "      <td>24348.9723</td>\n",
              "      <td>3639.9423</td>\n",
              "    </tr>\n",
              "    <tr>\n",
              "      <th>2011-06</th>\n",
              "      <td>27260.0196</td>\n",
              "      <td>4328.2596</td>\n",
              "    </tr>\n",
              "    <tr>\n",
              "      <th>2011-07</th>\n",
              "      <td>15842.8317</td>\n",
              "      <td>1258.9617</td>\n",
              "    </tr>\n",
              "    <tr>\n",
              "      <th>2011-08</th>\n",
              "      <td>22012.2366</td>\n",
              "      <td>775.8066</td>\n",
              "    </tr>\n",
              "    <tr>\n",
              "      <th>2011-09</th>\n",
              "      <td>34613.1849</td>\n",
              "      <td>5181.4449</td>\n",
              "    </tr>\n",
              "    <tr>\n",
              "      <th>2011-10</th>\n",
              "      <td>36472.0470</td>\n",
              "      <td>6911.9970</td>\n",
              "    </tr>\n",
              "    <tr>\n",
              "      <th>2011-11</th>\n",
              "      <td>37722.6039</td>\n",
              "      <td>221.5539</td>\n",
              "    </tr>\n",
              "    <tr>\n",
              "      <th>2011-12</th>\n",
              "      <td>37846.9911</td>\n",
              "      <td>4004.3211</td>\n",
              "    </tr>\n",
              "    <tr>\n",
              "      <th>2012-01</th>\n",
              "      <td>31280.8635</td>\n",
              "      <td>4810.1535</td>\n",
              "    </tr>\n",
              "    <tr>\n",
              "      <th>2012-02</th>\n",
              "      <td>24985.6881</td>\n",
              "      <td>2967.1281</td>\n",
              "    </tr>\n",
              "    <tr>\n",
              "      <th>2012-03</th>\n",
              "      <td>14241.1761</td>\n",
              "      <td>146.4261</td>\n",
              "    </tr>\n",
              "    <tr>\n",
              "      <th>2012-04</th>\n",
              "      <td>20926.4721</td>\n",
              "      <td>2368.1721</td>\n",
              "    </tr>\n",
              "    <tr>\n",
              "      <th>2012-05</th>\n",
              "      <td>32608.6212</td>\n",
              "      <td>6114.3312</td>\n",
              "    </tr>\n",
              "    <tr>\n",
              "      <th>2012-06</th>\n",
              "      <td>39710.0352</td>\n",
              "      <td>4790.0052</td>\n",
              "    </tr>\n",
              "    <tr>\n",
              "      <th>2012-07</th>\n",
              "      <td>8389.7316</td>\n",
              "      <td>606.0216</td>\n",
              "    </tr>\n",
              "    <tr>\n",
              "      <th>2012-08</th>\n",
              "      <td>48444.7977</td>\n",
              "      <td>7600.9977</td>\n",
              "    </tr>\n",
              "    <tr>\n",
              "      <th>2012-09</th>\n",
              "      <td>28193.2236</td>\n",
              "      <td>2401.1736</td>\n",
              "    </tr>\n",
              "    <tr>\n",
              "      <th>2012-10</th>\n",
              "      <td>56743.0833</td>\n",
              "      <td>7759.0233</td>\n",
              "    </tr>\n",
              "    <tr>\n",
              "      <th>2012-11</th>\n",
              "      <td>51967.0140</td>\n",
              "      <td>5676.1440</td>\n",
              "    </tr>\n",
              "    <tr>\n",
              "      <th>2012-12</th>\n",
              "      <td>47343.6267</td>\n",
              "      <td>3835.9467</td>\n",
              "    </tr>\n",
              "    <tr>\n",
              "      <th>2013-01</th>\n",
              "      <td>31328.2620</td>\n",
              "      <td>3555.8820</td>\n",
              "    </tr>\n",
              "    <tr>\n",
              "      <th>2013-02</th>\n",
              "      <td>20999.7378</td>\n",
              "      <td>3225.6978</td>\n",
              "    </tr>\n",
              "    <tr>\n",
              "      <th>2013-03</th>\n",
              "      <td>28414.6209</td>\n",
              "      <td>5333.4909</td>\n",
              "    </tr>\n",
              "    <tr>\n",
              "      <th>2013-04</th>\n",
              "      <td>20508.7197</td>\n",
              "      <td>2304.9297</td>\n",
              "    </tr>\n",
              "    <tr>\n",
              "      <th>2013-05</th>\n",
              "      <td>47979.6000</td>\n",
              "      <td>5004.9900</td>\n",
              "    </tr>\n",
              "    <tr>\n",
              "      <th>2013-06</th>\n",
              "      <td>70436.8089</td>\n",
              "      <td>12689.2389</td>\n",
              "    </tr>\n",
              "    <tr>\n",
              "      <th>2013-07</th>\n",
              "      <td>34596.8247</td>\n",
              "      <td>3417.3747</td>\n",
              "    </tr>\n",
              "    <tr>\n",
              "      <th>2013-08</th>\n",
              "      <td>45251.6439</td>\n",
              "      <td>3856.6239</td>\n",
              "    </tr>\n",
              "    <tr>\n",
              "      <th>2013-09</th>\n",
              "      <td>51513.2235</td>\n",
              "      <td>8307.3735</td>\n",
              "    </tr>\n",
              "    <tr>\n",
              "      <th>2013-10</th>\n",
              "      <td>53448.5532</td>\n",
              "      <td>6231.6432</td>\n",
              "    </tr>\n",
              "    <tr>\n",
              "      <th>2013-11</th>\n",
              "      <td>47812.7784</td>\n",
              "      <td>6932.1384</td>\n",
              "    </tr>\n",
              "    <tr>\n",
              "      <th>2013-12</th>\n",
              "      <td>51717.6204</td>\n",
              "      <td>4783.6104</td>\n",
              "    </tr>\n",
              "    <tr>\n",
              "      <th>2014-01</th>\n",
              "      <td>37924.3296</td>\n",
              "      <td>4893.3396</td>\n",
              "    </tr>\n",
              "    <tr>\n",
              "      <th>2014-02</th>\n",
              "      <td>21584.5086</td>\n",
              "      <td>1151.9886</td>\n",
              "    </tr>\n",
              "    <tr>\n",
              "      <th>2014-03</th>\n",
              "      <td>46340.1096</td>\n",
              "      <td>6598.9896</td>\n",
              "    </tr>\n",
              "    <tr>\n",
              "      <th>2014-04</th>\n",
              "      <td>32897.5062</td>\n",
              "      <td>2275.9362</td>\n",
              "    </tr>\n",
              "    <tr>\n",
              "      <th>2014-05</th>\n",
              "      <td>53544.8328</td>\n",
              "      <td>4780.1628</td>\n",
              "    </tr>\n",
              "    <tr>\n",
              "      <th>2014-06</th>\n",
              "      <td>51483.7011</td>\n",
              "      <td>6724.2411</td>\n",
              "    </tr>\n",
              "    <tr>\n",
              "      <th>2014-07</th>\n",
              "      <td>36524.3028</td>\n",
              "      <td>2732.4828</td>\n",
              "    </tr>\n",
              "    <tr>\n",
              "      <th>2014-08</th>\n",
              "      <td>63521.7729</td>\n",
              "      <td>5050.6929</td>\n",
              "    </tr>\n",
              "    <tr>\n",
              "      <th>2014-09</th>\n",
              "      <td>44477.2662</td>\n",
              "      <td>5758.2162</td>\n",
              "    </tr>\n",
              "    <tr>\n",
              "      <th>2014-10</th>\n",
              "      <td>77379.8286</td>\n",
              "      <td>11824.2486</td>\n",
              "    </tr>\n",
              "    <tr>\n",
              "      <th>2014-11</th>\n",
              "      <td>82286.3583</td>\n",
              "      <td>12869.9883</td>\n",
              "    </tr>\n",
              "    <tr>\n",
              "      <th>2014-12</th>\n",
              "      <td>60292.1310</td>\n",
              "      <td>7192.6810</td>\n",
              "    </tr>\n",
              "  </tbody>\n",
              "</table>\n",
              "</div>"
            ],
            "text/plain": [
              "                 Sales      Profit\n",
              "Order Date                        \n",
              "2011-01     15711.7125    991.2825\n",
              "2011-02     12910.8588   1338.8688\n",
              "2011-03     19472.5632   3747.1632\n",
              "2011-04     15440.3046   3846.4746\n",
              "2011-05     24348.9723   3639.9423\n",
              "2011-06     27260.0196   4328.2596\n",
              "2011-07     15842.8317   1258.9617\n",
              "2011-08     22012.2366    775.8066\n",
              "2011-09     34613.1849   5181.4449\n",
              "2011-10     36472.0470   6911.9970\n",
              "2011-11     37722.6039    221.5539\n",
              "2011-12     37846.9911   4004.3211\n",
              "2012-01     31280.8635   4810.1535\n",
              "2012-02     24985.6881   2967.1281\n",
              "2012-03     14241.1761    146.4261\n",
              "2012-04     20926.4721   2368.1721\n",
              "2012-05     32608.6212   6114.3312\n",
              "2012-06     39710.0352   4790.0052\n",
              "2012-07      8389.7316    606.0216\n",
              "2012-08     48444.7977   7600.9977\n",
              "2012-09     28193.2236   2401.1736\n",
              "2012-10     56743.0833   7759.0233\n",
              "2012-11     51967.0140   5676.1440\n",
              "2012-12     47343.6267   3835.9467\n",
              "2013-01     31328.2620   3555.8820\n",
              "2013-02     20999.7378   3225.6978\n",
              "2013-03     28414.6209   5333.4909\n",
              "2013-04     20508.7197   2304.9297\n",
              "2013-05     47979.6000   5004.9900\n",
              "2013-06     70436.8089  12689.2389\n",
              "2013-07     34596.8247   3417.3747\n",
              "2013-08     45251.6439   3856.6239\n",
              "2013-09     51513.2235   8307.3735\n",
              "2013-10     53448.5532   6231.6432\n",
              "2013-11     47812.7784   6932.1384\n",
              "2013-12     51717.6204   4783.6104\n",
              "2014-01     37924.3296   4893.3396\n",
              "2014-02     21584.5086   1151.9886\n",
              "2014-03     46340.1096   6598.9896\n",
              "2014-04     32897.5062   2275.9362\n",
              "2014-05     53544.8328   4780.1628\n",
              "2014-06     51483.7011   6724.2411\n",
              "2014-07     36524.3028   2732.4828\n",
              "2014-08     63521.7729   5050.6929\n",
              "2014-09     44477.2662   5758.2162\n",
              "2014-10     77379.8286  11824.2486\n",
              "2014-11     82286.3583  12869.9883\n",
              "2014-12     60292.1310   7192.6810"
            ]
          },
          "metadata": {},
          "execution_count": 136
        }
      ]
    },
    {
      "cell_type": "markdown",
      "metadata": {
        "id": "ZX09h8dIE5ox"
      },
      "source": [
        "## APAC Consumer"
      ]
    },
    {
      "cell_type": "markdown",
      "metadata": {
        "id": "W4_q2ag9E5oy"
      },
      "source": [
        "Now, since we are considering only univariate time series, let's proceed with forecasting only the sales."
      ]
    },
    {
      "cell_type": "code",
      "metadata": {
        "id": "luP_gblrE5oy",
        "colab": {
          "base_uri": "https://localhost:8080/"
        },
        "outputId": "14303842-d083-48f0-9dfd-643e11f070e9"
      },
      "source": [
        "print(data1.head())\n",
        "print(data1.shape)"
      ],
      "execution_count": null,
      "outputs": [
        {
          "output_type": "stream",
          "name": "stdout",
          "text": [
            "                 Sales     Profit\n",
            "Order Date                       \n",
            "2011-01     15711.7125   991.2825\n",
            "2011-02     12910.8588  1338.8688\n",
            "2011-03     19472.5632  3747.1632\n",
            "2011-04     15440.3046  3846.4746\n",
            "2011-05     24348.9723  3639.9423\n",
            "(48, 2)\n"
          ]
        }
      ]
    },
    {
      "cell_type": "code",
      "metadata": {
        "id": "5vOEZQIAE5oy",
        "colab": {
          "base_uri": "https://localhost:8080/"
        },
        "outputId": "ab0b9856-713c-4e53-e1ec-17c9acff9667"
      },
      "source": [
        "#dropping all the columns and keeping only sales\n",
        "data1 = data1[['Sales']]\n",
        "print(data1.head())"
      ],
      "execution_count": null,
      "outputs": [
        {
          "output_type": "stream",
          "name": "stdout",
          "text": [
            "                 Sales\n",
            "Order Date            \n",
            "2011-01     15711.7125\n",
            "2011-02     12910.8588\n",
            "2011-03     19472.5632\n",
            "2011-04     15440.3046\n",
            "2011-05     24348.9723\n"
          ]
        }
      ]
    },
    {
      "cell_type": "code",
      "metadata": {
        "id": "SL2O55E_E5oy",
        "colab": {
          "base_uri": "https://localhost:8080/",
          "height": 307
        },
        "outputId": "bb64f378-e140-49cf-a03e-7b3e0960a290"
      },
      "source": [
        "#plotting the sales of APAC Consumer\n",
        "data1.plot(figsize=(12, 4))\n",
        "plt.legend(loc='best')\n",
        "plt.title('Sales of APACConsumer')\n",
        "plt.show()"
      ],
      "execution_count": null,
      "outputs": [
        {
          "output_type": "display_data",
          "data": {
            "image/png": "[encoded data removed]",
            "text/plain": [
              "<Figure size 864x288 with 1 Axes>"
            ]
          },
          "metadata": {
            "needs_background": "light"
          }
        }
      ]
    },
    {
      "cell_type": "markdown",
      "metadata": {
        "id": "UrNbFnTZE5oy"
      },
      "source": [
        "Here we observe a linear trend; the seasonality is not as obvious as the airlines dataset you have studied. Lets decompose this time series to get a better idea."
      ]
    },
    {
      "cell_type": "code",
      "metadata": {
        "id": "FgHJwPveE5oz",
        "colab": {
          "base_uri": "https://localhost:8080/",
          "height": 585
        },
        "outputId": "4cf4a020-a5e6-44da-e18e-7806b181312b"
      },
      "source": [
        "from pylab import rcParams\n",
        "rcParams['figure.figsize'] = 12, 8\n",
        "from statsmodels.tsa.seasonal import seasonal_decompose\n",
        "data1.Sales.interpolate(inplace = True)\n",
        "data1.Sales.index=data1.Sales.index.to_timestamp()\n",
        "decomposition = seasonal_decompose(data1.Sales)\n",
        "fig = decomposition.plot()\n",
        "plt.show()"
      ],
      "execution_count": null,
      "outputs": [
        {
          "output_type": "display_data",
          "data": {
            "image/png": "[encoded data removed]",
            "text/plain": [
              "<Figure size 864x576 with 4 Axes>"
            ]
          },
          "metadata": {
            "needs_background": "light"
          }
        }
      ]
    },
    {
      "cell_type": "code",
      "metadata": {
        "id": "AqM5GjhjE5oz"
      },
      "source": [
        "#converting datetime to timestamp\n",
        "data1 = data1.to_timestamp() # converting datetime to timestamp; \n",
        "                             # sometimes get error when running the models later if this step is not included"
      ],
      "execution_count": null,
      "outputs": []
    },
    {
      "cell_type": "code",
      "metadata": {
        "id": "s5rFUYuME5oz",
        "colab": {
          "base_uri": "https://localhost:8080/"
        },
        "outputId": "2a6f2aa0-9d7f-434d-e782-746985a890b6"
      },
      "source": [
        "data1.info()"
      ],
      "execution_count": null,
      "outputs": [
        {
          "output_type": "stream",
          "name": "stdout",
          "text": [
            "<class 'pandas.core.frame.DataFrame'>\n",
            "DatetimeIndex: 48 entries, 2011-01-01 to 2014-12-01\n",
            "Freq: MS\n",
            "Data columns (total 1 columns):\n",
            " #   Column  Non-Null Count  Dtype  \n",
            "---  ------  --------------  -----  \n",
            " 0   Sales   48 non-null     float64\n",
            "dtypes: float64(1)\n",
            "memory usage: 768.0 bytes\n"
          ]
        }
      ]
    },
    {
      "cell_type": "markdown",
      "metadata": {
        "id": "GFXFDCiwE5oz"
      },
      "source": [
        "# Forecasting using different algorithms"
      ]
    },
    {
      "cell_type": "markdown",
      "metadata": {
        "id": "zXfKARx_E5o0"
      },
      "source": [
        "## Train-Test-Split"
      ]
    },
    {
      "cell_type": "code",
      "metadata": {
        "id": "me8iLgSpE5o0"
      },
      "source": [
        "train_len = 42\n",
        "train = data1[0:train_len]\n",
        "test = data1[train_len:]"
      ],
      "execution_count": null,
      "outputs": []
    },
    {
      "cell_type": "markdown",
      "metadata": {
        "id": "4qwK076jE5o0"
      },
      "source": [
        "## Naive Method"
      ]
    },
    {
      "cell_type": "code",
      "metadata": {
        "id": "eFLAoXy0E5o0"
      },
      "source": [
        "y_hat_naive = test.copy()\n",
        "y_hat_naive['naive_forecast'] = train['Sales'][train_len-1] # The last value of sales from the train data will be forecasted for test data"
      ],
      "execution_count": null,
      "outputs": []
    },
    {
      "cell_type": "markdown",
      "metadata": {
        "id": "xw6I5xElE5o1"
      },
      "source": [
        "### Plot train, test and forecast"
      ]
    },
    {
      "cell_type": "code",
      "metadata": {
        "id": "J605wVScE5o1",
        "colab": {
          "base_uri": "https://localhost:8080/",
          "height": 281
        },
        "outputId": "cdccbd9d-e77c-4d09-f979-987777e6cc85"
      },
      "source": [
        "plt.figure(figsize=(12,4))\n",
        "plt.plot(train['Sales'], label='Train')\n",
        "plt.plot(test['Sales'], label='Test')\n",
        "plt.plot(y_hat_naive['naive_forecast'], label='Naive forecast')\n",
        "plt.legend(loc='best')\n",
        "plt.title('Naive Method')\n",
        "plt.show()"
      ],
      "execution_count": null,
      "outputs": [
        {
          "output_type": "display_data",
          "data": {
            "image/png": "[encoded data removed]",
            "text/plain": [
              "<Figure size 864x288 with 1 Axes>"
            ]
          },
          "metadata": {
            "needs_background": "light"
          }
        }
      ]
    },
    {
      "cell_type": "markdown",
      "metadata": {
        "id": "5HqfMT0CE5o1"
      },
      "source": [
        "### Calculate MAPE (Mean absolute percentage error)"
      ]
    },
    {
      "cell_type": "code",
      "metadata": {
        "id": "x9vCE2nBE5o2",
        "colab": {
          "base_uri": "https://localhost:8080/",
          "height": 80
        },
        "outputId": "4d05c8bf-bf28-4511-e044-caaf99f92b57"
      },
      "source": [
        "mape = np.round(np.mean(np.abs(test['Sales']-y_hat_naive['naive_forecast'])/test['Sales'])*100,2)\n",
        "# take the absolute difference between the actual value and its forecast and divide by the actual value multiplied by 100 \n",
        "# to get the percentage which is then rounded to two decimal places.\n",
        "results = pd.DataFrame({'Method':['Naive method'], 'MAPE': [mape]})\n",
        "results = results[['Method', 'MAPE']]\n",
        "results"
      ],
      "execution_count": null,
      "outputs": [
        {
          "output_type": "execute_result",
          "data": {
            "text/html": [
              "<div>\n",
              "<style scoped>\n",
              "    .dataframe tbody tr th:only-of-type {\n",
              "        vertical-align: middle;\n",
              "    }\n",
              "\n",
              "    .dataframe tbody tr th {\n",
              "        vertical-align: top;\n",
              "    }\n",
              "\n",
              "    .dataframe thead th {\n",
              "        text-align: right;\n",
              "    }\n",
              "</style>\n",
              "<table border=\"1\" class=\"dataframe\">\n",
              "  <thead>\n",
              "    <tr style=\"text-align: right;\">\n",
              "      <th></th>\n",
              "      <th>Method</th>\n",
              "      <th>MAPE</th>\n",
              "    </tr>\n",
              "  </thead>\n",
              "  <tbody>\n",
              "    <tr>\n",
              "      <th>0</th>\n",
              "      <td>Naive method</td>\n",
              "      <td>26.86</td>\n",
              "    </tr>\n",
              "  </tbody>\n",
              "</table>\n",
              "</div>"
            ],
            "text/plain": [
              "         Method   MAPE\n",
              "0  Naive method  26.86"
            ]
          },
          "metadata": {},
          "execution_count": 146
        }
      ]
    },
    {
      "cell_type": "markdown",
      "metadata": {
        "id": "Q3QVP5lRE5o2"
      },
      "source": [
        "## Simple average"
      ]
    },
    {
      "cell_type": "code",
      "metadata": {
        "id": "Ieg6GZlAE5o2"
      },
      "source": [
        "y_hat_avg = test.copy()\n",
        "y_hat_avg['avg_forecast'] = train['Sales'].mean()"
      ],
      "execution_count": null,
      "outputs": []
    },
    {
      "cell_type": "markdown",
      "metadata": {
        "id": "nLoQ_HTrE5o2"
      },
      "source": [
        "### Plot train, test and forecast"
      ]
    },
    {
      "cell_type": "code",
      "metadata": {
        "id": "Pi1DkZhfE5o3",
        "colab": {
          "base_uri": "https://localhost:8080/",
          "height": 281
        },
        "outputId": "6420470b-66b7-4e59-c32a-1231db914ce8"
      },
      "source": [
        "plt.figure(figsize=(12,4))\n",
        "plt.plot(train['Sales'], label='Train')\n",
        "plt.plot(test['Sales'], label='Test')\n",
        "plt.plot(y_hat_avg['avg_forecast'], label='Simple average forecast')\n",
        "plt.legend(loc='best')\n",
        "plt.title('Simple Average Method')\n",
        "plt.show()"
      ],
      "execution_count": null,
      "outputs": [
        {
          "output_type": "display_data",
          "data": {
            "image/png": "[encoded data removed]",
            "text/plain": [
              "<Figure size 864x288 with 1 Axes>"
            ]
          },
          "metadata": {
            "needs_background": "light"
          }
        }
      ]
    },
    {
      "cell_type": "markdown",
      "metadata": {
        "id": "XZxd2yPtE5o3"
      },
      "source": [
        "### Calculate MAPE"
      ]
    },
    {
      "cell_type": "code",
      "metadata": {
        "id": "pD-tvyHAE5o3",
        "colab": {
          "base_uri": "https://localhost:8080/",
          "height": 111
        },
        "outputId": "15a21624-175e-4138-feee-af26c86b836c"
      },
      "source": [
        "mape = np.round(np.mean(np.abs(test['Sales']-y_hat_avg['avg_forecast'])/test['Sales'])*100,2)\n",
        "\n",
        "tempResults = pd.DataFrame({'Method':['Simple average method'],'MAPE': [mape] })\n",
        "results = pd.concat([results, tempResults])\n",
        "results = results[['Method', 'MAPE']]\n",
        "results"
      ],
      "execution_count": null,
      "outputs": [
        {
          "output_type": "execute_result",
          "data": {
            "text/html": [
              "<div>\n",
              "<style scoped>\n",
              "    .dataframe tbody tr th:only-of-type {\n",
              "        vertical-align: middle;\n",
              "    }\n",
              "\n",
              "    .dataframe tbody tr th {\n",
              "        vertical-align: top;\n",
              "    }\n",
              "\n",
              "    .dataframe thead th {\n",
              "        text-align: right;\n",
              "    }\n",
              "</style>\n",
              "<table border=\"1\" class=\"dataframe\">\n",
              "  <thead>\n",
              "    <tr style=\"text-align: right;\">\n",
              "      <th></th>\n",
              "      <th>Method</th>\n",
              "      <th>MAPE</th>\n",
              "    </tr>\n",
              "  </thead>\n",
              "  <tbody>\n",
              "    <tr>\n",
              "      <th>0</th>\n",
              "      <td>Naive method</td>\n",
              "      <td>26.86</td>\n",
              "    </tr>\n",
              "    <tr>\n",
              "      <th>0</th>\n",
              "      <td>Simple average method</td>\n",
              "      <td>38.18</td>\n",
              "    </tr>\n",
              "  </tbody>\n",
              "</table>\n",
              "</div>"
            ],
            "text/plain": [
              "                  Method   MAPE\n",
              "0           Naive method  26.86\n",
              "0  Simple average method  38.18"
            ]
          },
          "metadata": {},
          "execution_count": 149
        }
      ]
    },
    {
      "cell_type": "markdown",
      "metadata": {
        "id": "975Af8BaE5o3"
      },
      "source": [
        "## Simple Moving Average"
      ]
    },
    {
      "cell_type": "code",
      "metadata": {
        "id": "QfqvS33QE5o4",
        "colab": {
          "base_uri": "https://localhost:8080/",
          "height": 282
        },
        "outputId": "44ae9939-5e05-4b72-a989-88ebce04ca67"
      },
      "source": [
        "plt.figure(figsize=(12,4))\n",
        "plt.plot(train['Sales'], label='Train')"
      ],
      "execution_count": null,
      "outputs": [
        {
          "output_type": "execute_result",
          "data": {
            "text/plain": [
              "[<matplotlib.lines.Line2D at 0x7f1c9c77d390>]"
            ]
          },
          "metadata": {},
          "execution_count": 150
        },
        {
          "output_type": "display_data",
          "data": {
            "image/png": "[encoded data removed]",
            "text/plain": [
              "<Figure size 864x288 with 1 Axes>"
            ]
          },
          "metadata": {
            "needs_background": "light"
          }
        }
      ]
    },
    {
      "cell_type": "code",
      "metadata": {
        "id": "69gh2aqeE5o4"
      },
      "source": [
        "y_hat_sma = data1.copy()\n",
        "ma_window = 3\n",
        "y_hat_sma['sma_forecast'] = data1['Sales'].rolling(ma_window).mean()\n",
        "y_hat_sma['sma_forecast'][train_len:] = y_hat_sma['sma_forecast'][train_len-1]"
      ],
      "execution_count": null,
      "outputs": []
    },
    {
      "cell_type": "markdown",
      "metadata": {
        "id": "NBrNu9HVE5o4"
      },
      "source": [
        "### Plot train, test and forecast"
      ]
    },
    {
      "cell_type": "code",
      "metadata": {
        "id": "Oen6MO2rE5o4",
        "colab": {
          "base_uri": "https://localhost:8080/",
          "height": 281
        },
        "outputId": "453d9152-bfeb-424f-a98e-61fd40a96b7e"
      },
      "source": [
        "plt.figure(figsize=(12,4))\n",
        "plt.plot(train['Sales'], label='Train')\n",
        "plt.plot(test['Sales'], label='Test')\n",
        "plt.plot(y_hat_sma['sma_forecast'], label='Simple moving average forecast')\n",
        "plt.legend(loc='best')\n",
        "plt.title('Simple Moving Average Method')\n",
        "plt.show()"
      ],
      "execution_count": null,
      "outputs": [
        {
          "output_type": "display_data",
          "data": {
            "image/png": "[encoded data removed]",
            "text/plain": [
              "<Figure size 864x288 with 1 Axes>"
            ]
          },
          "metadata": {
            "needs_background": "light"
          }
        }
      ]
    },
    {
      "cell_type": "markdown",
      "metadata": {
        "id": "4hFzQfTKE5o5"
      },
      "source": [
        "### Calculate MAPE"
      ]
    },
    {
      "cell_type": "code",
      "metadata": {
        "id": "PK8KctjcE5o5",
        "colab": {
          "base_uri": "https://localhost:8080/",
          "height": 142
        },
        "outputId": "2901ce94-2128-4f54-bbfc-d073348225ca"
      },
      "source": [
        "mape = np.round(np.mean(np.abs(test['Sales']-y_hat_sma['sma_forecast'][train_len:])/test['Sales'])*100,2)\n",
        "\n",
        "tempResults = pd.DataFrame({'Method':['Simple moving average forecast'],'MAPE': [mape] })\n",
        "results = pd.concat([results, tempResults])\n",
        "results = results[['Method', 'MAPE']]\n",
        "results"
      ],
      "execution_count": null,
      "outputs": [
        {
          "output_type": "execute_result",
          "data": {
            "text/html": [
              "<div>\n",
              "<style scoped>\n",
              "    .dataframe tbody tr th:only-of-type {\n",
              "        vertical-align: middle;\n",
              "    }\n",
              "\n",
              "    .dataframe tbody tr th {\n",
              "        vertical-align: top;\n",
              "    }\n",
              "\n",
              "    .dataframe thead th {\n",
              "        text-align: right;\n",
              "    }\n",
              "</style>\n",
              "<table border=\"1\" class=\"dataframe\">\n",
              "  <thead>\n",
              "    <tr style=\"text-align: right;\">\n",
              "      <th></th>\n",
              "      <th>Method</th>\n",
              "      <th>MAPE</th>\n",
              "    </tr>\n",
              "  </thead>\n",
              "  <tbody>\n",
              "    <tr>\n",
              "      <th>0</th>\n",
              "      <td>Naive method</td>\n",
              "      <td>26.86</td>\n",
              "    </tr>\n",
              "    <tr>\n",
              "      <th>0</th>\n",
              "      <td>Simple average method</td>\n",
              "      <td>38.18</td>\n",
              "    </tr>\n",
              "    <tr>\n",
              "      <th>0</th>\n",
              "      <td>Simple moving average forecast</td>\n",
              "      <td>27.55</td>\n",
              "    </tr>\n",
              "  </tbody>\n",
              "</table>\n",
              "</div>"
            ],
            "text/plain": [
              "                           Method   MAPE\n",
              "0                    Naive method  26.86\n",
              "0           Simple average method  38.18\n",
              "0  Simple moving average forecast  27.55"
            ]
          },
          "metadata": {},
          "execution_count": 153
        }
      ]
    },
    {
      "cell_type": "markdown",
      "metadata": {
        "id": "gPwlaW2IE5o5"
      },
      "source": [
        "## Simple Exponential Smoothing Technique"
      ]
    },
    {
      "cell_type": "code",
      "metadata": {
        "id": "1h7vIX9kE5o6",
        "colab": {
          "base_uri": "https://localhost:8080/"
        },
        "outputId": "90e5a86b-a2bf-4275-f483-7701ef1e85f9"
      },
      "source": [
        "from statsmodels.tsa.holtwinters import SimpleExpSmoothing\n",
        "\n",
        "model = SimpleExpSmoothing(train['Sales'])\n",
        "model_fit = model.fit(smoothing_level=0.2, optimized=False) # alpha = 0.2 \n",
        "print(model_fit.params)\n",
        "y_hat_ses = test.copy()\n",
        "y_hat_ses['ses_forecast'] = model_fit.forecast(len(test))"
      ],
      "execution_count": null,
      "outputs": [
        {
          "output_type": "stream",
          "name": "stdout",
          "text": [
            "{'smoothing_level': 0.2, 'smoothing_slope': None, 'smoothing_seasonal': None, 'damping_slope': nan, 'initial_level': 15711.712500000003, 'initial_slope': nan, 'initial_seasons': array([], dtype=float64), 'use_boxcox': False, 'lamda': None, 'remove_bias': False}\n"
          ]
        }
      ]
    },
    {
      "cell_type": "markdown",
      "metadata": {
        "id": "9fFwppP2E5o6"
      },
      "source": [
        "### Plot train, test and forecast"
      ]
    },
    {
      "cell_type": "code",
      "metadata": {
        "id": "0WRFgs3WE5o6",
        "colab": {
          "base_uri": "https://localhost:8080/",
          "height": 281
        },
        "outputId": "c97b03f1-8bb8-48e4-ec0e-c3cb0ea26f70"
      },
      "source": [
        "plt.figure(figsize=(12,4))\n",
        "plt.plot(train['Sales'], label='Train')\n",
        "plt.plot(test['Sales'], label='Test')\n",
        "plt.plot(y_hat_ses['ses_forecast'], label='Simple exponential smoothing forecast')\n",
        "plt.legend(loc='best')\n",
        "plt.title('Simple Exponential Smoothing Method')\n",
        "plt.show()"
      ],
      "execution_count": null,
      "outputs": [
        {
          "output_type": "display_data",
          "data": {
            "image/png": "[encoded data removed]",
            "text/plain": [
              "<Figure size 864x288 with 1 Axes>"
            ]
          },
          "metadata": {
            "needs_background": "light"
          }
        }
      ]
    },
    {
      "cell_type": "markdown",
      "metadata": {
        "id": "W3pGjbkhE5o6"
      },
      "source": [
        "### Calculate MAPE"
      ]
    },
    {
      "cell_type": "code",
      "metadata": {
        "id": "a3zZYX3YE5o7",
        "colab": {
          "base_uri": "https://localhost:8080/",
          "height": 173
        },
        "outputId": "a0485171-4bee-4cdf-d859-6ccafc1bd405"
      },
      "source": [
        "mape = np.round(np.mean(np.abs(test['Sales']-y_hat_ses['ses_forecast'])/test['Sales'])*100,2)\n",
        "\n",
        "tempResults = pd.DataFrame({'Method':['Simple exponential smoothing forecast'],'MAPE': [mape] })\n",
        "results = pd.concat([results, tempResults])\n",
        "results"
      ],
      "execution_count": null,
      "outputs": [
        {
          "output_type": "execute_result",
          "data": {
            "text/html": [
              "<div>\n",
              "<style scoped>\n",
              "    .dataframe tbody tr th:only-of-type {\n",
              "        vertical-align: middle;\n",
              "    }\n",
              "\n",
              "    .dataframe tbody tr th {\n",
              "        vertical-align: top;\n",
              "    }\n",
              "\n",
              "    .dataframe thead th {\n",
              "        text-align: right;\n",
              "    }\n",
              "</style>\n",
              "<table border=\"1\" class=\"dataframe\">\n",
              "  <thead>\n",
              "    <tr style=\"text-align: right;\">\n",
              "      <th></th>\n",
              "      <th>Method</th>\n",
              "      <th>MAPE</th>\n",
              "    </tr>\n",
              "  </thead>\n",
              "  <tbody>\n",
              "    <tr>\n",
              "      <th>0</th>\n",
              "      <td>Naive method</td>\n",
              "      <td>26.86</td>\n",
              "    </tr>\n",
              "    <tr>\n",
              "      <th>0</th>\n",
              "      <td>Simple average method</td>\n",
              "      <td>38.18</td>\n",
              "    </tr>\n",
              "    <tr>\n",
              "      <th>0</th>\n",
              "      <td>Simple moving average forecast</td>\n",
              "      <td>27.55</td>\n",
              "    </tr>\n",
              "    <tr>\n",
              "      <th>0</th>\n",
              "      <td>Simple exponential smoothing forecast</td>\n",
              "      <td>27.82</td>\n",
              "    </tr>\n",
              "  </tbody>\n",
              "</table>\n",
              "</div>"
            ],
            "text/plain": [
              "                                  Method   MAPE\n",
              "0                           Naive method  26.86\n",
              "0                  Simple average method  38.18\n",
              "0         Simple moving average forecast  27.55\n",
              "0  Simple exponential smoothing forecast  27.82"
            ]
          },
          "metadata": {},
          "execution_count": 156
        }
      ]
    },
    {
      "cell_type": "markdown",
      "metadata": {
        "id": "YhG03R9CE5o7"
      },
      "source": [
        "It does a decent job but lets proceed with considering trend next and seasonlality further."
      ]
    },
    {
      "cell_type": "markdown",
      "metadata": {
        "id": "CiVpgvhvE5o7"
      },
      "source": [
        "## Holt Method"
      ]
    },
    {
      "cell_type": "code",
      "metadata": {
        "id": "1RzwGxGzE5o8",
        "colab": {
          "base_uri": "https://localhost:8080/"
        },
        "outputId": "82466141-98e9-4b52-8f0d-3175ec70a17e"
      },
      "source": [
        "from statsmodels.tsa.holtwinters import ExponentialSmoothing\n",
        "\n",
        "model = ExponentialSmoothing(np.asarray(train['Sales']),seasonal_periods=12, trend='additive', seasonal=None)\n",
        "#model_fit = model.fit(smoothing_level=0.2, smoothing_slope=0.04, optimized=False)\n",
        "model_fit = model.fit(optimized=True)\n",
        "print(model_fit.params)\n",
        "y_hat_holt = test.copy()\n",
        "y_hat_holt['holt_forecast'] = model_fit.forecast(len(test))"
      ],
      "execution_count": null,
      "outputs": [
        {
          "output_type": "stream",
          "name": "stdout",
          "text": [
            "{'smoothing_level': 5.1028584231248616e-11, 'smoothing_slope': 4.883327082151558e-12, 'smoothing_seasonal': nan, 'damping_slope': nan, 'initial_level': 16493.105815548683, 'initial_slope': 809.6370957363854, 'initial_seasons': array([], dtype=float64), 'use_boxcox': False, 'lamda': None, 'remove_bias': False}\n"
          ]
        }
      ]
    },
    {
      "cell_type": "markdown",
      "metadata": {
        "id": "jU1RzlY9E5o8"
      },
      "source": [
        "### Plot train, test and forecast"
      ]
    },
    {
      "cell_type": "code",
      "metadata": {
        "id": "FAbtRgU9E5o8",
        "colab": {
          "base_uri": "https://localhost:8080/",
          "height": 281
        },
        "outputId": "983c3ce6-10cc-40a9-b24e-7c7ebe267f4d"
      },
      "source": [
        "plt.figure(figsize=(12,4))\n",
        "plt.plot(train['Sales'], label='Train')\n",
        "plt.plot(test['Sales'], label='Test')\n",
        "plt.plot(y_hat_holt['holt_forecast'], label='Holt\\'s exponential smoothing forecast')\n",
        "plt.legend(loc='best')\n",
        "plt.title('Holt\\'s Exponential Smoothing Method')\n",
        "plt.show()"
      ],
      "execution_count": null,
      "outputs": [
        {
          "output_type": "display_data",
          "data": {
            "image/png": "[encoded data removed]",
            "text/plain": [
              "<Figure size 864x288 with 1 Axes>"
            ]
          },
          "metadata": {
            "needs_background": "light"
          }
        }
      ]
    },
    {
      "cell_type": "markdown",
      "metadata": {
        "id": "BVT0UpIYE5o9"
      },
      "source": [
        "### Calculate MAPE"
      ]
    },
    {
      "cell_type": "code",
      "metadata": {
        "id": "7qRVtYhEE5o9",
        "colab": {
          "base_uri": "https://localhost:8080/",
          "height": 204
        },
        "outputId": "1b7bcf04-d3a1-4fa9-e06f-d4744a5f47af"
      },
      "source": [
        "mape = np.round(np.mean(np.abs(test['Sales']-y_hat_holt['holt_forecast'])/test['Sales'])*100,2)\n",
        "\n",
        "tempResults = pd.DataFrame({'Method':['Holt\\'s exponential smoothing method'], 'MAPE': [mape] })\n",
        "results = pd.concat([results, tempResults])\n",
        "results = results[['Method', 'MAPE']]\n",
        "results"
      ],
      "execution_count": null,
      "outputs": [
        {
          "output_type": "execute_result",
          "data": {
            "text/html": [
              "<div>\n",
              "<style scoped>\n",
              "    .dataframe tbody tr th:only-of-type {\n",
              "        vertical-align: middle;\n",
              "    }\n",
              "\n",
              "    .dataframe tbody tr th {\n",
              "        vertical-align: top;\n",
              "    }\n",
              "\n",
              "    .dataframe thead th {\n",
              "        text-align: right;\n",
              "    }\n",
              "</style>\n",
              "<table border=\"1\" class=\"dataframe\">\n",
              "  <thead>\n",
              "    <tr style=\"text-align: right;\">\n",
              "      <th></th>\n",
              "      <th>Method</th>\n",
              "      <th>MAPE</th>\n",
              "    </tr>\n",
              "  </thead>\n",
              "  <tbody>\n",
              "    <tr>\n",
              "      <th>0</th>\n",
              "      <td>Naive method</td>\n",
              "      <td>26.86</td>\n",
              "    </tr>\n",
              "    <tr>\n",
              "      <th>0</th>\n",
              "      <td>Simple average method</td>\n",
              "      <td>38.18</td>\n",
              "    </tr>\n",
              "    <tr>\n",
              "      <th>0</th>\n",
              "      <td>Simple moving average forecast</td>\n",
              "      <td>27.55</td>\n",
              "    </tr>\n",
              "    <tr>\n",
              "      <th>0</th>\n",
              "      <td>Simple exponential smoothing forecast</td>\n",
              "      <td>27.82</td>\n",
              "    </tr>\n",
              "    <tr>\n",
              "      <th>0</th>\n",
              "      <td>Holt's exponential smoothing method</td>\n",
              "      <td>24.98</td>\n",
              "    </tr>\n",
              "  </tbody>\n",
              "</table>\n",
              "</div>"
            ],
            "text/plain": [
              "                                  Method   MAPE\n",
              "0                           Naive method  26.86\n",
              "0                  Simple average method  38.18\n",
              "0         Simple moving average forecast  27.55\n",
              "0  Simple exponential smoothing forecast  27.82\n",
              "0    Holt's exponential smoothing method  24.98"
            ]
          },
          "metadata": {},
          "execution_count": 159
        }
      ]
    },
    {
      "cell_type": "markdown",
      "metadata": {
        "id": "X5CO35xnE5o9"
      },
      "source": [
        "# Holt Winters' additive method"
      ]
    },
    {
      "cell_type": "code",
      "metadata": {
        "id": "xAfpFVXME5o9",
        "colab": {
          "base_uri": "https://localhost:8080/"
        },
        "outputId": "0dd208de-42e0-41f2-8a08-c6e0e9f41114"
      },
      "source": [
        "y_hat_hwa = test.copy()\n",
        "model = ExponentialSmoothing(np.asarray(train['Sales']) ,seasonal_periods=12 ,trend='add', seasonal='add')\n",
        "model_fit = model.fit(optimized=True)\n",
        "print(model_fit.params)\n",
        "y_hat_hwa['hw_forecast'] = model_fit.forecast(len(test))"
      ],
      "execution_count": null,
      "outputs": [
        {
          "output_type": "stream",
          "name": "stdout",
          "text": [
            "{'smoothing_level': 0.052631578947367676, 'smoothing_slope': 0.05263157894736842, 'smoothing_seasonal': 0.10526315789474944, 'damping_slope': nan, 'initial_level': 29061.291899999593, 'initial_slope': 730.4167145833245, 'initial_seasons': array([-13349.5794, -16150.4331,  -9588.7287, -13620.9873,  -4712.3196,\n",
            "        -1801.2723, -13218.4602,  -7049.0553,   5551.893 ,   7410.7551,\n",
            "         8661.312 ,   8785.6992]), 'use_boxcox': False, 'lamda': None, 'remove_bias': False}\n"
          ]
        }
      ]
    },
    {
      "cell_type": "markdown",
      "metadata": {
        "id": "5BD4QVluE5o-"
      },
      "source": [
        "### Plot train, test and forecast"
      ]
    },
    {
      "cell_type": "code",
      "metadata": {
        "id": "bGQc--ckE5o-",
        "colab": {
          "base_uri": "https://localhost:8080/",
          "height": 281
        },
        "outputId": "c3f88d2f-777f-48f9-9370-df2f1511fe59"
      },
      "source": [
        "plt.figure(figsize=(12,4))\n",
        "plt.plot( train['Sales'], label='Train')\n",
        "plt.plot(test['Sales'], label='Test')\n",
        "plt.plot(y_hat_hwa['hw_forecast'], label='Holt Winters\\'s additive forecast')\n",
        "plt.legend(loc='best')\n",
        "plt.title('Holt Winters\\' Additive Method')\n",
        "plt.show()"
      ],
      "execution_count": null,
      "outputs": [
        {
          "output_type": "display_data",
          "data": {
            "image/png": "[encoded data removed]",
            "text/plain": [
              "<Figure size 864x288 with 1 Axes>"
            ]
          },
          "metadata": {
            "needs_background": "light"
          }
        }
      ]
    },
    {
      "cell_type": "markdown",
      "metadata": {
        "id": "nJtBh3j8E5o-"
      },
      "source": [
        "### Calculate MAPE"
      ]
    },
    {
      "cell_type": "code",
      "metadata": {
        "id": "KKwJxIEsE5o-",
        "colab": {
          "base_uri": "https://localhost:8080/",
          "height": 235
        },
        "outputId": "71e55397-70ad-4557-8ee8-03dd14548135"
      },
      "source": [
        "mape = np.round(np.mean(np.abs(test['Sales']-y_hat_hwa['hw_forecast'])/test['Sales'])*100,2)\n",
        "\n",
        "tempResults = pd.DataFrame({'Method':['Holt Winters\\' additive method'], 'MAPE': [mape] })\n",
        "results = pd.concat([results, tempResults])\n",
        "results = results[['Method', 'MAPE']]\n",
        "results"
      ],
      "execution_count": null,
      "outputs": [
        {
          "output_type": "execute_result",
          "data": {
            "text/html": [
              "<div>\n",
              "<style scoped>\n",
              "    .dataframe tbody tr th:only-of-type {\n",
              "        vertical-align: middle;\n",
              "    }\n",
              "\n",
              "    .dataframe tbody tr th {\n",
              "        vertical-align: top;\n",
              "    }\n",
              "\n",
              "    .dataframe thead th {\n",
              "        text-align: right;\n",
              "    }\n",
              "</style>\n",
              "<table border=\"1\" class=\"dataframe\">\n",
              "  <thead>\n",
              "    <tr style=\"text-align: right;\">\n",
              "      <th></th>\n",
              "      <th>Method</th>\n",
              "      <th>MAPE</th>\n",
              "    </tr>\n",
              "  </thead>\n",
              "  <tbody>\n",
              "    <tr>\n",
              "      <th>0</th>\n",
              "      <td>Naive method</td>\n",
              "      <td>26.86</td>\n",
              "    </tr>\n",
              "    <tr>\n",
              "      <th>0</th>\n",
              "      <td>Simple average method</td>\n",
              "      <td>38.18</td>\n",
              "    </tr>\n",
              "    <tr>\n",
              "      <th>0</th>\n",
              "      <td>Simple moving average forecast</td>\n",
              "      <td>27.55</td>\n",
              "    </tr>\n",
              "    <tr>\n",
              "      <th>0</th>\n",
              "      <td>Simple exponential smoothing forecast</td>\n",
              "      <td>27.82</td>\n",
              "    </tr>\n",
              "    <tr>\n",
              "      <th>0</th>\n",
              "      <td>Holt's exponential smoothing method</td>\n",
              "      <td>24.98</td>\n",
              "    </tr>\n",
              "    <tr>\n",
              "      <th>0</th>\n",
              "      <td>Holt Winters' additive method</td>\n",
              "      <td>17.61</td>\n",
              "    </tr>\n",
              "  </tbody>\n",
              "</table>\n",
              "</div>"
            ],
            "text/plain": [
              "                                  Method   MAPE\n",
              "0                           Naive method  26.86\n",
              "0                  Simple average method  38.18\n",
              "0         Simple moving average forecast  27.55\n",
              "0  Simple exponential smoothing forecast  27.82\n",
              "0    Holt's exponential smoothing method  24.98\n",
              "0          Holt Winters' additive method  17.61"
            ]
          },
          "metadata": {},
          "execution_count": 162
        }
      ]
    },
    {
      "cell_type": "markdown",
      "metadata": {
        "id": "2VEhnioxE5o_"
      },
      "source": [
        "# Holt Winters' Multiplicative method"
      ]
    },
    {
      "cell_type": "code",
      "metadata": {
        "id": "JY24tFQjE5o_",
        "colab": {
          "base_uri": "https://localhost:8080/"
        },
        "outputId": "1e858412-13a1-4f8d-d5fd-f6be201ead1a"
      },
      "source": [
        "y_hat_hwm = test.copy()\n",
        "model = ExponentialSmoothing(np.asarray(train['Sales']) ,seasonal_periods=12 ,trend='add', seasonal='mul')\n",
        "model_fit = model.fit(optimized=True)\n",
        "print(model_fit.params)\n",
        "y_hat_hwm['hw_forecast'] = model_fit.forecast(len(test))"
      ],
      "execution_count": null,
      "outputs": [
        {
          "output_type": "stream",
          "name": "stdout",
          "text": [
            "{'smoothing_level': 0.05263157894736842, 'smoothing_slope': 0.05263157894736842, 'smoothing_seasonal': 0.21052631578947367, 'damping_slope': nan, 'initial_level': 29061.291900000004, 'initial_slope': 730.4167145833347, 'initial_seasons': array([0.54064054, 0.44426307, 0.67005153, 0.53130138, 0.83784893,\n",
            "       0.93801816, 0.54515235, 0.75744178, 1.19104082, 1.25500432,\n",
            "       1.29803603, 1.3023162 ]), 'use_boxcox': False, 'lamda': None, 'remove_bias': False}\n"
          ]
        }
      ]
    },
    {
      "cell_type": "markdown",
      "metadata": {
        "id": "hC0WnSZjE5o_"
      },
      "source": [
        "### Plot train, test and forecast"
      ]
    },
    {
      "cell_type": "code",
      "metadata": {
        "id": "d1AIU08YE5pA",
        "colab": {
          "base_uri": "https://localhost:8080/",
          "height": 281
        },
        "outputId": "ad304c70-97f6-4ccf-c1f9-6943e3c1d5a9"
      },
      "source": [
        "plt.figure(figsize=(12,4))\n",
        "plt.plot( train['Sales'], label='Train')\n",
        "plt.plot(test['Sales'], label='Test')\n",
        "plt.plot(y_hat_hwm['hw_forecast'], label='Holt Winters\\'s mulitplicative forecast')\n",
        "plt.legend(loc='best')\n",
        "plt.title('Holt Winters\\' Mulitplicative Method')\n",
        "plt.show()"
      ],
      "execution_count": null,
      "outputs": [
        {
          "output_type": "display_data",
          "data": {
            "image/png": "[encoded data removed]",
            "text/plain": [
              "<Figure size 864x288 with 1 Axes>"
            ]
          },
          "metadata": {
            "needs_background": "light"
          }
        }
      ]
    },
    {
      "cell_type": "markdown",
      "metadata": {
        "id": "N4r5G51YE5pA"
      },
      "source": [
        "### Calculate MAPE"
      ]
    },
    {
      "cell_type": "code",
      "metadata": {
        "id": "Swgq6NKSE5pB",
        "colab": {
          "base_uri": "https://localhost:8080/",
          "height": 266
        },
        "outputId": "21a21a9a-dfe4-46d4-f45d-c6aad6129908"
      },
      "source": [
        "mape = np.round(np.mean(np.abs(test['Sales']-y_hat_hwm['hw_forecast'])/test['Sales'])*100,2)\n",
        "\n",
        "tempResults = pd.DataFrame({'Method':['Holt Winters\\' multiplicative method'], 'MAPE': [mape] })\n",
        "results = pd.concat([results, tempResults])\n",
        "results = results[['Method', 'MAPE']]\n",
        "results"
      ],
      "execution_count": null,
      "outputs": [
        {
          "output_type": "execute_result",
          "data": {
            "text/html": [
              "<div>\n",
              "<style scoped>\n",
              "    .dataframe tbody tr th:only-of-type {\n",
              "        vertical-align: middle;\n",
              "    }\n",
              "\n",
              "    .dataframe tbody tr th {\n",
              "        vertical-align: top;\n",
              "    }\n",
              "\n",
              "    .dataframe thead th {\n",
              "        text-align: right;\n",
              "    }\n",
              "</style>\n",
              "<table border=\"1\" class=\"dataframe\">\n",
              "  <thead>\n",
              "    <tr style=\"text-align: right;\">\n",
              "      <th></th>\n",
              "      <th>Method</th>\n",
              "      <th>MAPE</th>\n",
              "    </tr>\n",
              "  </thead>\n",
              "  <tbody>\n",
              "    <tr>\n",
              "      <th>0</th>\n",
              "      <td>Naive method</td>\n",
              "      <td>26.86</td>\n",
              "    </tr>\n",
              "    <tr>\n",
              "      <th>0</th>\n",
              "      <td>Simple average method</td>\n",
              "      <td>38.18</td>\n",
              "    </tr>\n",
              "    <tr>\n",
              "      <th>0</th>\n",
              "      <td>Simple moving average forecast</td>\n",
              "      <td>27.55</td>\n",
              "    </tr>\n",
              "    <tr>\n",
              "      <th>0</th>\n",
              "      <td>Simple exponential smoothing forecast</td>\n",
              "      <td>27.82</td>\n",
              "    </tr>\n",
              "    <tr>\n",
              "      <th>0</th>\n",
              "      <td>Holt's exponential smoothing method</td>\n",
              "      <td>24.98</td>\n",
              "    </tr>\n",
              "    <tr>\n",
              "      <th>0</th>\n",
              "      <td>Holt Winters' additive method</td>\n",
              "      <td>17.61</td>\n",
              "    </tr>\n",
              "    <tr>\n",
              "      <th>0</th>\n",
              "      <td>Holt Winters' multiplicative method</td>\n",
              "      <td>19.62</td>\n",
              "    </tr>\n",
              "  </tbody>\n",
              "</table>\n",
              "</div>"
            ],
            "text/plain": [
              "                                  Method   MAPE\n",
              "0                           Naive method  26.86\n",
              "0                  Simple average method  38.18\n",
              "0         Simple moving average forecast  27.55\n",
              "0  Simple exponential smoothing forecast  27.82\n",
              "0    Holt's exponential smoothing method  24.98\n",
              "0          Holt Winters' additive method  17.61\n",
              "0    Holt Winters' multiplicative method  19.62"
            ]
          },
          "metadata": {},
          "execution_count": 165
        }
      ]
    },
    {
      "cell_type": "markdown",
      "metadata": {
        "id": "T7qRs7HsE5pB"
      },
      "source": [
        "# Regression Models"
      ]
    },
    {
      "cell_type": "markdown",
      "metadata": {
        "id": "_QHzGmIhE5pB"
      },
      "source": [
        "## Stationarity Test"
      ]
    },
    {
      "cell_type": "code",
      "metadata": {
        "id": "o4KtKpfuE5pC",
        "colab": {
          "base_uri": "https://localhost:8080/"
        },
        "outputId": "839b5fc3-d840-4c5b-8603-daf0507147d9"
      },
      "source": [
        "# Stationarity test - KPSS test\n",
        "from statsmodels.tsa.stattools import kpss\n",
        "kpss_test = kpss(data1['Sales'])\n",
        "\n",
        "print('KPSS Statistic: %f' % kpss_test[0])\n",
        "print('Critical Values @ 0.05: %.2f' % kpss_test[3]['5%'])\n",
        "print('p-value: %f' % kpss_test[1])"
      ],
      "execution_count": null,
      "outputs": [
        {
          "output_type": "stream",
          "name": "stdout",
          "text": [
            "KPSS Statistic: 0.595515\n",
            "Critical Values @ 0.05: 0.46\n",
            "p-value: 0.023044\n"
          ]
        }
      ]
    },
    {
      "cell_type": "markdown",
      "metadata": {
        "id": "OAWgpskQE5pC"
      },
      "source": [
        "Note: Null hypothesis for KPSS test is that the series is stationary and the alternative hypothesis is that it is not stationary."
      ]
    },
    {
      "cell_type": "markdown",
      "metadata": {
        "id": "ZQeVdFA0E5pC"
      },
      "source": [
        "## Box Cox transformation to make variance constant"
      ]
    },
    {
      "cell_type": "code",
      "metadata": {
        "id": "yc-AGORSE5pC",
        "colab": {
          "base_uri": "https://localhost:8080/",
          "height": 281
        },
        "outputId": "63e0eabd-141a-4292-ac23-6571bd84475a"
      },
      "source": [
        "from scipy.stats import boxcox\n",
        "data_boxcox = pd.Series(boxcox(data1['Sales'], lmbda=0), index = data1.index) # lmbda=0 implies log transformation\n",
        "\n",
        "plt.figure(figsize=(12,4))\n",
        "plt.plot(data_boxcox, label='After Box Cox tranformation')\n",
        "plt.legend(loc='best')\n",
        "plt.title('After Box Cox transform')\n",
        "plt.show()"
      ],
      "execution_count": null,
      "outputs": [
        {
          "output_type": "display_data",
          "data": {
            "image/png": "[encoded data removed]",
            "text/plain": [
              "<Figure size 864x288 with 1 Axes>"
            ]
          },
          "metadata": {
            "needs_background": "light"
          }
        }
      ]
    },
    {
      "cell_type": "code",
      "metadata": {
        "id": "MPIY4iB7E5pD",
        "colab": {
          "base_uri": "https://localhost:8080/",
          "height": 282
        },
        "outputId": "be779439-c30e-4a2f-e3c4-abfc73e10a60"
      },
      "source": [
        "plt.figure(figsize=(12,4))\n",
        "plt.plot( data1['Sales'], label='data1')"
      ],
      "execution_count": null,
      "outputs": [
        {
          "output_type": "execute_result",
          "data": {
            "text/plain": [
              "[<matplotlib.lines.Line2D at 0x7f1c9c689f10>]"
            ]
          },
          "metadata": {},
          "execution_count": 168
        },
        {
          "output_type": "display_data",
          "data": {
            "image/png": "[encoded data removed]",
            "text/plain": [
              "<Figure size 864x288 with 1 Axes>"
            ]
          },
          "metadata": {
            "needs_background": "light"
          }
        }
      ]
    },
    {
      "cell_type": "markdown",
      "metadata": {
        "id": "OPPIfBhME5pE"
      },
      "source": [
        "## Differencing to Remove Trend"
      ]
    },
    {
      "cell_type": "code",
      "metadata": {
        "id": "ECv5yrzPE5pE",
        "colab": {
          "base_uri": "https://localhost:8080/",
          "height": 281
        },
        "outputId": "47fd98e6-48b2-4be4-f712-b0aada725cd0"
      },
      "source": [
        "data_boxcox_diff = pd.Series(data_boxcox - data_boxcox.shift(), data1.index)\n",
        "plt.figure(figsize=(12,4))\n",
        "plt.plot(data_boxcox_diff, label='After Box Cox tranformation and differencing')\n",
        "plt.legend(loc='best')\n",
        "plt.title('After Box Cox transform and differencing')\n",
        "plt.show()"
      ],
      "execution_count": null,
      "outputs": [
        {
          "output_type": "display_data",
          "data": {
            "image/png": "[encoded data removed]",
            "text/plain": [
              "<Figure size 864x288 with 1 Axes>"
            ]
          },
          "metadata": {
            "needs_background": "light"
          }
        }
      ]
    },
    {
      "cell_type": "code",
      "metadata": {
        "id": "lLBuFGSTE5pF"
      },
      "source": [
        "data_boxcox_diff.dropna(inplace=True)"
      ],
      "execution_count": null,
      "outputs": []
    },
    {
      "cell_type": "code",
      "metadata": {
        "id": "C32v-z14E5pG"
      },
      "source": [
        "train_data_boxcox = data_boxcox[:train_len] # Arima\n",
        "test_data_boxcox = data_boxcox[train_len:]\n",
        "\n",
        "train_data_boxcox_diff = data_boxcox_diff[:train_len] # Rest\n",
        "test_data_boxcox_diff = data_boxcox_diff[train_len:]\n",
        "\n",
        "# Differencing and boxcox done on the entire data, hence need to split it again"
      ],
      "execution_count": null,
      "outputs": []
    },
    {
      "cell_type": "code",
      "metadata": {
        "id": "DkTXO1HhE5pG",
        "colab": {
          "base_uri": "https://localhost:8080/"
        },
        "outputId": "a2253b8f-a4e8-4117-c175-59d0b442a266"
      },
      "source": [
        "test_data_boxcox_diff"
      ],
      "execution_count": null,
      "outputs": [
        {
          "output_type": "execute_result",
          "data": {
            "text/plain": [
              "Order Date\n",
              "2014-08-01    0.553405\n",
              "2014-09-01   -0.356405\n",
              "2014-10-01    0.553748\n",
              "2014-11-01    0.061479\n",
              "2014-12-01   -0.311004\n",
              "Freq: MS, dtype: float64"
            ]
          },
          "metadata": {},
          "execution_count": 172
        }
      ]
    },
    {
      "cell_type": "markdown",
      "metadata": {
        "id": "5f2k7wUBE5pG"
      },
      "source": [
        "## AR"
      ]
    },
    {
      "cell_type": "code",
      "metadata": {
        "id": "gW_8JRIvE5pH",
        "colab": {
          "base_uri": "https://localhost:8080/"
        },
        "outputId": "cfba88ed-1f4d-4f1c-aff1-f68eaf322636"
      },
      "source": [
        "from statsmodels.tsa.arima_model import ARIMA\n",
        "model = ARIMA(train_data_boxcox_diff, order=(1, 0, 0)) \n",
        "model_fit = model.fit()\n",
        "print(model_fit.params) # gives the intercept and coefficient values"
      ],
      "execution_count": null,
      "outputs": [
        {
          "output_type": "stream",
          "name": "stdout",
          "text": [
            "const      0.024642\n",
            "ar.L1.y   -0.481508\n",
            "dtype: float64\n"
          ]
        }
      ]
    },
    {
      "cell_type": "code",
      "metadata": {
        "id": "syUKaY8fE5pH"
      },
      "source": [
        "# In order to make the forecast, we need to transform the forecasts made to the original form\n",
        "y_hat_ar = data_boxcox_diff.copy()\n",
        "y_hat_ar['ar_forecast_boxcox_diff'] = model_fit.predict(data_boxcox_diff.index.min(), data_boxcox_diff.index.max())\n",
        "y_hat_ar['ar_forecast_boxcox'] = y_hat_ar['ar_forecast_boxcox_diff'].cumsum()\n",
        "y_hat_ar['ar_forecast_boxcox'] = y_hat_ar['ar_forecast_boxcox'].add(data_boxcox[0])\n",
        "y_hat_ar['ar_forecast'] = np.exp(y_hat_ar['ar_forecast_boxcox'])\n",
        "# In order to get back the original time series we do a cumulative sum to remove the differencing and exponentiate the \n",
        "# forecasts in order to remove the effect of the boxcox transformation"
      ],
      "execution_count": null,
      "outputs": []
    },
    {
      "cell_type": "markdown",
      "metadata": {
        "id": "I3w2Lim-E5pH"
      },
      "source": [
        "### Plot train, test and forecast"
      ]
    },
    {
      "cell_type": "code",
      "metadata": {
        "id": "GsV9gznrE5pH",
        "colab": {
          "base_uri": "https://localhost:8080/",
          "height": 281
        },
        "outputId": "79c0d20e-1acc-41b8-b591-2468468d7403"
      },
      "source": [
        "plt.figure(figsize=(12,4))\n",
        "plt.plot(train['Sales'], label='Train')\n",
        "plt.plot(test['Sales'], label='Test')\n",
        "plt.plot(y_hat_ar['ar_forecast'][test.index.min():], label='Auto regression forecast')\n",
        "plt.legend(loc='best')\n",
        "plt.title('Auto Regression Method')\n",
        "plt.show()"
      ],
      "execution_count": null,
      "outputs": [
        {
          "output_type": "display_data",
          "data": {
            "image/png": "[encoded data removed]",
            "text/plain": [
              "<Figure size 864x288 with 1 Axes>"
            ]
          },
          "metadata": {
            "needs_background": "light"
          }
        }
      ]
    },
    {
      "cell_type": "markdown",
      "metadata": {
        "id": "RjFPU-wnE5pI"
      },
      "source": [
        "### Calculate MAPE"
      ]
    },
    {
      "cell_type": "code",
      "metadata": {
        "id": "P1NXCLwgE5pI",
        "colab": {
          "base_uri": "https://localhost:8080/",
          "height": 297
        },
        "outputId": "9291d98d-17e4-443b-908c-e5bc7162e577"
      },
      "source": [
        "mape = np.round(np.mean(np.abs(test['Sales']-y_hat_ar['ar_forecast'][test.index.min():])/test['Sales'])*100,2)\n",
        "\n",
        "tempResults = pd.DataFrame({'Method':['Autoregressive (AR) method'], 'MAPE': [mape] })\n",
        "results = pd.concat([results, tempResults])\n",
        "results = results[['Method', 'MAPE']]\n",
        "results"
      ],
      "execution_count": null,
      "outputs": [
        {
          "output_type": "execute_result",
          "data": {
            "text/html": [
              "<div>\n",
              "<style scoped>\n",
              "    .dataframe tbody tr th:only-of-type {\n",
              "        vertical-align: middle;\n",
              "    }\n",
              "\n",
              "    .dataframe tbody tr th {\n",
              "        vertical-align: top;\n",
              "    }\n",
              "\n",
              "    .dataframe thead th {\n",
              "        text-align: right;\n",
              "    }\n",
              "</style>\n",
              "<table border=\"1\" class=\"dataframe\">\n",
              "  <thead>\n",
              "    <tr style=\"text-align: right;\">\n",
              "      <th></th>\n",
              "      <th>Method</th>\n",
              "      <th>MAPE</th>\n",
              "    </tr>\n",
              "  </thead>\n",
              "  <tbody>\n",
              "    <tr>\n",
              "      <th>0</th>\n",
              "      <td>Naive method</td>\n",
              "      <td>26.86</td>\n",
              "    </tr>\n",
              "    <tr>\n",
              "      <th>0</th>\n",
              "      <td>Simple average method</td>\n",
              "      <td>38.18</td>\n",
              "    </tr>\n",
              "    <tr>\n",
              "      <th>0</th>\n",
              "      <td>Simple moving average forecast</td>\n",
              "      <td>27.55</td>\n",
              "    </tr>\n",
              "    <tr>\n",
              "      <th>0</th>\n",
              "      <td>Simple exponential smoothing forecast</td>\n",
              "      <td>27.82</td>\n",
              "    </tr>\n",
              "    <tr>\n",
              "      <th>0</th>\n",
              "      <td>Holt's exponential smoothing method</td>\n",
              "      <td>24.98</td>\n",
              "    </tr>\n",
              "    <tr>\n",
              "      <th>0</th>\n",
              "      <td>Holt Winters' additive method</td>\n",
              "      <td>17.61</td>\n",
              "    </tr>\n",
              "    <tr>\n",
              "      <th>0</th>\n",
              "      <td>Holt Winters' multiplicative method</td>\n",
              "      <td>19.62</td>\n",
              "    </tr>\n",
              "    <tr>\n",
              "      <th>0</th>\n",
              "      <td>Autoregressive (AR) method</td>\n",
              "      <td>21.07</td>\n",
              "    </tr>\n",
              "  </tbody>\n",
              "</table>\n",
              "</div>"
            ],
            "text/plain": [
              "                                  Method   MAPE\n",
              "0                           Naive method  26.86\n",
              "0                  Simple average method  38.18\n",
              "0         Simple moving average forecast  27.55\n",
              "0  Simple exponential smoothing forecast  27.82\n",
              "0    Holt's exponential smoothing method  24.98\n",
              "0          Holt Winters' additive method  17.61\n",
              "0    Holt Winters' multiplicative method  19.62\n",
              "0             Autoregressive (AR) method  21.07"
            ]
          },
          "metadata": {},
          "execution_count": 176
        }
      ]
    },
    {
      "cell_type": "markdown",
      "metadata": {
        "id": "lF-jlBJzE5pI"
      },
      "source": [
        "## MA"
      ]
    },
    {
      "cell_type": "code",
      "metadata": {
        "id": "S-pJ_HOWE5pJ",
        "colab": {
          "base_uri": "https://localhost:8080/"
        },
        "outputId": "91160c10-7a9d-41b7-b019-9f8851181274"
      },
      "source": [
        "model = ARIMA(train_data_boxcox_diff, order=(0, 0, 1)) \n",
        "model_fit = model.fit()\n",
        "print(model_fit.params)"
      ],
      "execution_count": null,
      "outputs": [
        {
          "output_type": "stream",
          "name": "stdout",
          "text": [
            "const      0.021645\n",
            "ma.L1.y   -0.999960\n",
            "dtype: float64\n"
          ]
        }
      ]
    },
    {
      "cell_type": "code",
      "metadata": {
        "id": "L5cwhoH5E5pJ"
      },
      "source": [
        "y_hat_ma = data_boxcox_diff.copy()\n",
        "y_hat_ma['ma_forecast_boxcox_diff'] = model_fit.predict(data_boxcox_diff.index.min(), data_boxcox_diff.index.max())\n",
        "y_hat_ma['ma_forecast_boxcox'] = y_hat_ma['ma_forecast_boxcox_diff'].cumsum()\n",
        "y_hat_ma['ma_forecast_boxcox'] = y_hat_ma['ma_forecast_boxcox'].add(data_boxcox[0])\n",
        "y_hat_ma['ma_forecast'] = np.exp(y_hat_ma['ma_forecast_boxcox'])"
      ],
      "execution_count": null,
      "outputs": []
    },
    {
      "cell_type": "markdown",
      "metadata": {
        "id": "TV7UNcEVE5pJ"
      },
      "source": [
        "### Plot train, test and forecast"
      ]
    },
    {
      "cell_type": "code",
      "metadata": {
        "id": "gRLTg3YqE5pJ",
        "colab": {
          "base_uri": "https://localhost:8080/",
          "height": 281
        },
        "outputId": "92367b16-ea82-4f3a-b57f-0b5c4a3f05a3"
      },
      "source": [
        "plt.figure(figsize=(12,4))\n",
        "plt.plot(data1['Sales'][:train_len], label='Train')\n",
        "plt.plot(data1['Sales'][train_len:], label='Test')\n",
        "plt.plot(y_hat_ma['ma_forecast'][test.index.min():], label='Moving average forecast')\n",
        "plt.legend(loc='best')\n",
        "plt.title('Moving Average Method')\n",
        "plt.show()"
      ],
      "execution_count": null,
      "outputs": [
        {
          "output_type": "display_data",
          "data": {
            "image/png": "[encoded data removed]",
            "text/plain": [
              "<Figure size 864x288 with 1 Axes>"
            ]
          },
          "metadata": {
            "needs_background": "light"
          }
        }
      ]
    },
    {
      "cell_type": "markdown",
      "metadata": {
        "id": "WURAI7PNE5pK"
      },
      "source": [
        "### Calculate MAPE"
      ]
    },
    {
      "cell_type": "code",
      "metadata": {
        "id": "U5b3ptlWE5pK",
        "colab": {
          "base_uri": "https://localhost:8080/",
          "height": 328
        },
        "outputId": "e75ec50a-98ee-4b95-b163-01533a2a2f11"
      },
      "source": [
        "mape = np.round(np.mean(np.abs(test['Sales']-y_hat_ma['ma_forecast'][test.index.min():])/test['Sales'])*100,2)\n",
        "\n",
        "tempResults = pd.DataFrame({'Method':['Moving Average (MA) method'], 'MAPE': [mape] })\n",
        "results = pd.concat([results, tempResults])\n",
        "results = results[['Method', 'MAPE']]\n",
        "results"
      ],
      "execution_count": null,
      "outputs": [
        {
          "output_type": "execute_result",
          "data": {
            "text/html": [
              "<div>\n",
              "<style scoped>\n",
              "    .dataframe tbody tr th:only-of-type {\n",
              "        vertical-align: middle;\n",
              "    }\n",
              "\n",
              "    .dataframe tbody tr th {\n",
              "        vertical-align: top;\n",
              "    }\n",
              "\n",
              "    .dataframe thead th {\n",
              "        text-align: right;\n",
              "    }\n",
              "</style>\n",
              "<table border=\"1\" class=\"dataframe\">\n",
              "  <thead>\n",
              "    <tr style=\"text-align: right;\">\n",
              "      <th></th>\n",
              "      <th>Method</th>\n",
              "      <th>MAPE</th>\n",
              "    </tr>\n",
              "  </thead>\n",
              "  <tbody>\n",
              "    <tr>\n",
              "      <th>0</th>\n",
              "      <td>Naive method</td>\n",
              "      <td>26.86</td>\n",
              "    </tr>\n",
              "    <tr>\n",
              "      <th>0</th>\n",
              "      <td>Simple average method</td>\n",
              "      <td>38.18</td>\n",
              "    </tr>\n",
              "    <tr>\n",
              "      <th>0</th>\n",
              "      <td>Simple moving average forecast</td>\n",
              "      <td>27.55</td>\n",
              "    </tr>\n",
              "    <tr>\n",
              "      <th>0</th>\n",
              "      <td>Simple exponential smoothing forecast</td>\n",
              "      <td>27.82</td>\n",
              "    </tr>\n",
              "    <tr>\n",
              "      <th>0</th>\n",
              "      <td>Holt's exponential smoothing method</td>\n",
              "      <td>24.98</td>\n",
              "    </tr>\n",
              "    <tr>\n",
              "      <th>0</th>\n",
              "      <td>Holt Winters' additive method</td>\n",
              "      <td>17.61</td>\n",
              "    </tr>\n",
              "    <tr>\n",
              "      <th>0</th>\n",
              "      <td>Holt Winters' multiplicative method</td>\n",
              "      <td>19.62</td>\n",
              "    </tr>\n",
              "    <tr>\n",
              "      <th>0</th>\n",
              "      <td>Autoregressive (AR) method</td>\n",
              "      <td>21.07</td>\n",
              "    </tr>\n",
              "    <tr>\n",
              "      <th>0</th>\n",
              "      <td>Moving Average (MA) method</td>\n",
              "      <td>85.78</td>\n",
              "    </tr>\n",
              "  </tbody>\n",
              "</table>\n",
              "</div>"
            ],
            "text/plain": [
              "                                  Method   MAPE\n",
              "0                           Naive method  26.86\n",
              "0                  Simple average method  38.18\n",
              "0         Simple moving average forecast  27.55\n",
              "0  Simple exponential smoothing forecast  27.82\n",
              "0    Holt's exponential smoothing method  24.98\n",
              "0          Holt Winters' additive method  17.61\n",
              "0    Holt Winters' multiplicative method  19.62\n",
              "0             Autoregressive (AR) method  21.07\n",
              "0             Moving Average (MA) method  85.78"
            ]
          },
          "metadata": {},
          "execution_count": 180
        }
      ]
    },
    {
      "cell_type": "markdown",
      "metadata": {
        "id": "4w40d01mE5pL"
      },
      "source": [
        "## ARMA"
      ]
    },
    {
      "cell_type": "code",
      "metadata": {
        "id": "n66kz98oE5pL",
        "colab": {
          "base_uri": "https://localhost:8080/"
        },
        "outputId": "bc14abe6-8abe-4e4e-97a8-d9076edd91b6"
      },
      "source": [
        "model = ARIMA(train_data_boxcox_diff, order=(1, 0, 1))\n",
        "model_fit = model.fit()\n",
        "print(model_fit.params)"
      ],
      "execution_count": null,
      "outputs": [
        {
          "output_type": "stream",
          "name": "stdout",
          "text": [
            "const      0.021617\n",
            "ar.L1.y    0.113280\n",
            "ma.L1.y   -0.999930\n",
            "dtype: float64\n"
          ]
        }
      ]
    },
    {
      "cell_type": "code",
      "metadata": {
        "id": "xKjVboNME5pL"
      },
      "source": [
        "y_hat_arma = data_boxcox_diff.copy()\n",
        "y_hat_arma['arma_forecast_boxcox_diff'] = model_fit.predict(data_boxcox_diff.index.min(), data_boxcox_diff.index.max())\n",
        "y_hat_arma['arma_forecast_boxcox'] = y_hat_arma['arma_forecast_boxcox_diff'].cumsum()\n",
        "y_hat_arma['arma_forecast_boxcox'] = y_hat_arma['arma_forecast_boxcox'].add(data_boxcox[0])\n",
        "y_hat_arma['arma_forecast'] = np.exp(y_hat_arma['arma_forecast_boxcox'])"
      ],
      "execution_count": null,
      "outputs": []
    },
    {
      "cell_type": "markdown",
      "metadata": {
        "id": "mr5OG60PE5pL"
      },
      "source": [
        "### Plot train, test and forecast"
      ]
    },
    {
      "cell_type": "code",
      "metadata": {
        "id": "BtIIgPU8E5pM",
        "colab": {
          "base_uri": "https://localhost:8080/",
          "height": 281
        },
        "outputId": "c6a380c5-6679-4863-fb90-9282f37df843"
      },
      "source": [
        "plt.figure(figsize=(12,4))\n",
        "plt.plot( data1['Sales'][:train_len-1], label='Train')\n",
        "plt.plot(data1['Sales'][train_len-1:], label='Test')\n",
        "plt.plot(y_hat_arma['arma_forecast'][test.index.min():], label='ARMA forecast')\n",
        "plt.legend(loc='best')\n",
        "plt.title('ARMA Method')\n",
        "plt.show()"
      ],
      "execution_count": null,
      "outputs": [
        {
          "output_type": "display_data",
          "data": {
            "image/png": "[encoded data removed]",
            "text/plain": [
              "<Figure size 864x288 with 1 Axes>"
            ]
          },
          "metadata": {
            "needs_background": "light"
          }
        }
      ]
    },
    {
      "cell_type": "markdown",
      "metadata": {
        "id": "NkAn_Tc6E5pM"
      },
      "source": [
        "### Calculate MAPE"
      ]
    },
    {
      "cell_type": "code",
      "metadata": {
        "id": "2KWv2n9VE5pM",
        "colab": {
          "base_uri": "https://localhost:8080/",
          "height": 359
        },
        "outputId": "a706a1b2-12d5-4f3c-9fd5-8396039f08b6"
      },
      "source": [
        "mape = np.round(np.mean(np.abs(test['Sales']-y_hat_arma['arma_forecast'][train_len-1:])/test['Sales'])*100,2)\n",
        "\n",
        "tempResults = pd.DataFrame({'Method':['Autoregressive moving average (ARMA) method'], 'MAPE': [mape] })\n",
        "results = pd.concat([results, tempResults])\n",
        "results = results[['Method', 'MAPE']]\n",
        "results"
      ],
      "execution_count": null,
      "outputs": [
        {
          "output_type": "execute_result",
          "data": {
            "text/html": [
              "<div>\n",
              "<style scoped>\n",
              "    .dataframe tbody tr th:only-of-type {\n",
              "        vertical-align: middle;\n",
              "    }\n",
              "\n",
              "    .dataframe tbody tr th {\n",
              "        vertical-align: top;\n",
              "    }\n",
              "\n",
              "    .dataframe thead th {\n",
              "        text-align: right;\n",
              "    }\n",
              "</style>\n",
              "<table border=\"1\" class=\"dataframe\">\n",
              "  <thead>\n",
              "    <tr style=\"text-align: right;\">\n",
              "      <th></th>\n",
              "      <th>Method</th>\n",
              "      <th>MAPE</th>\n",
              "    </tr>\n",
              "  </thead>\n",
              "  <tbody>\n",
              "    <tr>\n",
              "      <th>0</th>\n",
              "      <td>Naive method</td>\n",
              "      <td>26.86</td>\n",
              "    </tr>\n",
              "    <tr>\n",
              "      <th>0</th>\n",
              "      <td>Simple average method</td>\n",
              "      <td>38.18</td>\n",
              "    </tr>\n",
              "    <tr>\n",
              "      <th>0</th>\n",
              "      <td>Simple moving average forecast</td>\n",
              "      <td>27.55</td>\n",
              "    </tr>\n",
              "    <tr>\n",
              "      <th>0</th>\n",
              "      <td>Simple exponential smoothing forecast</td>\n",
              "      <td>27.82</td>\n",
              "    </tr>\n",
              "    <tr>\n",
              "      <th>0</th>\n",
              "      <td>Holt's exponential smoothing method</td>\n",
              "      <td>24.98</td>\n",
              "    </tr>\n",
              "    <tr>\n",
              "      <th>0</th>\n",
              "      <td>Holt Winters' additive method</td>\n",
              "      <td>17.61</td>\n",
              "    </tr>\n",
              "    <tr>\n",
              "      <th>0</th>\n",
              "      <td>Holt Winters' multiplicative method</td>\n",
              "      <td>19.62</td>\n",
              "    </tr>\n",
              "    <tr>\n",
              "      <th>0</th>\n",
              "      <td>Autoregressive (AR) method</td>\n",
              "      <td>21.07</td>\n",
              "    </tr>\n",
              "    <tr>\n",
              "      <th>0</th>\n",
              "      <td>Moving Average (MA) method</td>\n",
              "      <td>85.78</td>\n",
              "    </tr>\n",
              "    <tr>\n",
              "      <th>0</th>\n",
              "      <td>Autoregressive moving average (ARMA) method</td>\n",
              "      <td>83.00</td>\n",
              "    </tr>\n",
              "  </tbody>\n",
              "</table>\n",
              "</div>"
            ],
            "text/plain": [
              "                                        Method   MAPE\n",
              "0                                 Naive method  26.86\n",
              "0                        Simple average method  38.18\n",
              "0               Simple moving average forecast  27.55\n",
              "0        Simple exponential smoothing forecast  27.82\n",
              "0          Holt's exponential smoothing method  24.98\n",
              "0                Holt Winters' additive method  17.61\n",
              "0          Holt Winters' multiplicative method  19.62\n",
              "0                   Autoregressive (AR) method  21.07\n",
              "0                   Moving Average (MA) method  85.78\n",
              "0  Autoregressive moving average (ARMA) method  83.00"
            ]
          },
          "metadata": {},
          "execution_count": 184
        }
      ]
    },
    {
      "cell_type": "code",
      "metadata": {
        "id": "4tFWErU7JFkZ"
      },
      "source": [
        ""
      ],
      "execution_count": null,
      "outputs": []
    },
    {
      "cell_type": "markdown",
      "metadata": {
        "id": "sCirLmrME5pN"
      },
      "source": [
        "# ARIMA"
      ]
    },
    {
      "cell_type": "code",
      "metadata": {
        "id": "ymH4ZSunE5pN",
        "colab": {
          "base_uri": "https://localhost:8080/"
        },
        "outputId": "6e5f0cc7-851a-49b7-a3bd-3ba3abfe35f5"
      },
      "source": [
        "model = ARIMA(train_data_boxcox, order=(1, 1, 1))\n",
        "model_fit = model.fit()\n",
        "print(model_fit.params)"
      ],
      "execution_count": null,
      "outputs": [
        {
          "output_type": "stream",
          "name": "stdout",
          "text": [
            "const        0.022810\n",
            "ar.L1.D.y    0.115922\n",
            "ma.L1.D.y   -0.999999\n",
            "dtype: float64\n"
          ]
        }
      ]
    },
    {
      "cell_type": "code",
      "metadata": {
        "id": "33ddC970E5pN"
      },
      "source": [
        "y_hat_arima = data_boxcox_diff.copy()\n",
        "y_hat_arima['arima_forecast_boxcox_diff'] = model_fit.predict(data_boxcox_diff.index.min(), data_boxcox_diff.index.max())\n",
        "y_hat_arima['arima_forecast_boxcox'] = y_hat_arima['arima_forecast_boxcox_diff'].cumsum()\n",
        "y_hat_arima['arima_forecast_boxcox'] = y_hat_arima['arima_forecast_boxcox'].add(data_boxcox[0])\n",
        "y_hat_arima['arima_forecast'] = np.exp(y_hat_arima['arima_forecast_boxcox'])"
      ],
      "execution_count": null,
      "outputs": []
    },
    {
      "cell_type": "markdown",
      "metadata": {
        "id": "5HX-fw8iE5pO"
      },
      "source": [
        "### Plot train, test and forecast"
      ]
    },
    {
      "cell_type": "code",
      "metadata": {
        "id": "DaFFiehFE5pO",
        "colab": {
          "base_uri": "https://localhost:8080/",
          "height": 281
        },
        "outputId": "07112f4b-1838-423a-f2ad-cf53e0813c13"
      },
      "source": [
        "plt.figure(figsize=(12,4))\n",
        "plt.plot(train['Sales'], label='Train')\n",
        "plt.plot(test['Sales'], label='Test')\n",
        "plt.plot(y_hat_arima['arima_forecast'][test.index.min():], label='ARIMA forecast')\n",
        "plt.legend(loc='best')\n",
        "plt.title('Autoregressive integrated moving average (ARIMA) method')\n",
        "plt.show()"
      ],
      "execution_count": null,
      "outputs": [
        {
          "output_type": "display_data",
          "data": {
            "image/png": "[encoded data removed]",
            "text/plain": [
              "<Figure size 864x288 with 1 Axes>"
            ]
          },
          "metadata": {
            "needs_background": "light"
          }
        }
      ]
    },
    {
      "cell_type": "markdown",
      "metadata": {
        "id": "buV0OFm6E5pO"
      },
      "source": [
        "### Calculate MAPE"
      ]
    },
    {
      "cell_type": "code",
      "metadata": {
        "id": "VFEWjclME5pO",
        "colab": {
          "base_uri": "https://localhost:8080/",
          "height": 390
        },
        "outputId": "013d0bb2-d1d4-4ae8-9ef5-e5b850eeed9f"
      },
      "source": [
        "mape = np.round(np.mean(np.abs(test['Sales']-y_hat_arima['arima_forecast'][test.index.min():])/test['Sales'])*100,2)\n",
        "\n",
        "tempResults = pd.DataFrame({'Method':['Autoregressive integrated moving average (ARIMA) method'],'MAPE': [mape] })\n",
        "results = pd.concat([results, tempResults])\n",
        "results = results[['Method', 'MAPE']]\n",
        "results"
      ],
      "execution_count": null,
      "outputs": [
        {
          "output_type": "execute_result",
          "data": {
            "text/html": [
              "<div>\n",
              "<style scoped>\n",
              "    .dataframe tbody tr th:only-of-type {\n",
              "        vertical-align: middle;\n",
              "    }\n",
              "\n",
              "    .dataframe tbody tr th {\n",
              "        vertical-align: top;\n",
              "    }\n",
              "\n",
              "    .dataframe thead th {\n",
              "        text-align: right;\n",
              "    }\n",
              "</style>\n",
              "<table border=\"1\" class=\"dataframe\">\n",
              "  <thead>\n",
              "    <tr style=\"text-align: right;\">\n",
              "      <th></th>\n",
              "      <th>Method</th>\n",
              "      <th>MAPE</th>\n",
              "    </tr>\n",
              "  </thead>\n",
              "  <tbody>\n",
              "    <tr>\n",
              "      <th>0</th>\n",
              "      <td>Naive method</td>\n",
              "      <td>26.86</td>\n",
              "    </tr>\n",
              "    <tr>\n",
              "      <th>0</th>\n",
              "      <td>Simple average method</td>\n",
              "      <td>38.18</td>\n",
              "    </tr>\n",
              "    <tr>\n",
              "      <th>0</th>\n",
              "      <td>Simple moving average forecast</td>\n",
              "      <td>27.55</td>\n",
              "    </tr>\n",
              "    <tr>\n",
              "      <th>0</th>\n",
              "      <td>Simple exponential smoothing forecast</td>\n",
              "      <td>27.82</td>\n",
              "    </tr>\n",
              "    <tr>\n",
              "      <th>0</th>\n",
              "      <td>Holt's exponential smoothing method</td>\n",
              "      <td>24.98</td>\n",
              "    </tr>\n",
              "    <tr>\n",
              "      <th>0</th>\n",
              "      <td>Holt Winters' additive method</td>\n",
              "      <td>17.61</td>\n",
              "    </tr>\n",
              "    <tr>\n",
              "      <th>0</th>\n",
              "      <td>Holt Winters' multiplicative method</td>\n",
              "      <td>19.62</td>\n",
              "    </tr>\n",
              "    <tr>\n",
              "      <th>0</th>\n",
              "      <td>Autoregressive (AR) method</td>\n",
              "      <td>21.07</td>\n",
              "    </tr>\n",
              "    <tr>\n",
              "      <th>0</th>\n",
              "      <td>Moving Average (MA) method</td>\n",
              "      <td>85.78</td>\n",
              "    </tr>\n",
              "    <tr>\n",
              "      <th>0</th>\n",
              "      <td>Autoregressive moving average (ARMA) method</td>\n",
              "      <td>83.00</td>\n",
              "    </tr>\n",
              "    <tr>\n",
              "      <th>0</th>\n",
              "      <td>Autoregressive integrated moving average (ARIM...</td>\n",
              "      <td>77.66</td>\n",
              "    </tr>\n",
              "  </tbody>\n",
              "</table>\n",
              "</div>"
            ],
            "text/plain": [
              "                                              Method   MAPE\n",
              "0                                       Naive method  26.86\n",
              "0                              Simple average method  38.18\n",
              "0                     Simple moving average forecast  27.55\n",
              "0              Simple exponential smoothing forecast  27.82\n",
              "0                Holt's exponential smoothing method  24.98\n",
              "0                      Holt Winters' additive method  17.61\n",
              "0                Holt Winters' multiplicative method  19.62\n",
              "0                         Autoregressive (AR) method  21.07\n",
              "0                         Moving Average (MA) method  85.78\n",
              "0        Autoregressive moving average (ARMA) method  83.00\n",
              "0  Autoregressive integrated moving average (ARIM...  77.66"
            ]
          },
          "metadata": {},
          "execution_count": 188
        }
      ]
    },
    {
      "cell_type": "markdown",
      "metadata": {
        "id": "cki-N1yZE5pP"
      },
      "source": [
        "## SARIMA"
      ]
    },
    {
      "cell_type": "code",
      "metadata": {
        "id": "29L_5N1VE5pP",
        "colab": {
          "base_uri": "https://localhost:8080/"
        },
        "outputId": "3053b540-77a0-4401-f3d8-51ba43041fc9"
      },
      "source": [
        "from statsmodels.tsa.statespace.sarimax import SARIMAX\n",
        "\n",
        "model = SARIMAX(train_data_boxcox, order=(1, 1, 1), seasonal_order=(1, 1, 0, 12)) \n",
        "model_fit = model.fit()\n",
        "print(model_fit.params)"
      ],
      "execution_count": null,
      "outputs": [
        {
          "output_type": "stream",
          "name": "stdout",
          "text": [
            "ar.L1      -0.061381\n",
            "ma.L1      -0.994784\n",
            "ar.S.L12   -0.709435\n",
            "sigma2      0.084680\n",
            "dtype: float64\n"
          ]
        }
      ]
    },
    {
      "cell_type": "code",
      "metadata": {
        "id": "CCHoZbV0E5pP"
      },
      "source": [
        "y_hat_sarima = data_boxcox_diff.copy()\n",
        "y_hat_sarima['sarima_forecast_boxcox'] = model_fit.predict(data_boxcox_diff.index.min(), data_boxcox_diff.index.max())\n",
        "y_hat_sarima['sarima_forecast'] = np.exp(y_hat_sarima['sarima_forecast_boxcox'])"
      ],
      "execution_count": null,
      "outputs": []
    },
    {
      "cell_type": "markdown",
      "metadata": {
        "id": "yHCXyCVxE5pQ"
      },
      "source": [
        "### Plot train, test and forecast"
      ]
    },
    {
      "cell_type": "code",
      "metadata": {
        "id": "QIhxA6xRE5pQ",
        "colab": {
          "base_uri": "https://localhost:8080/",
          "height": 281
        },
        "outputId": "2e4933a6-6d0e-440a-a265-a76354a0a8c1"
      },
      "source": [
        "plt.figure(figsize=(12,4))\n",
        "plt.plot(train['Sales'], label='Train')\n",
        "plt.plot(test['Sales'], label='Test')\n",
        "plt.plot(y_hat_sarima['sarima_forecast'][test.index.min():], label='SARIMA forecast')\n",
        "plt.legend(loc='best')\n",
        "plt.title('Seasonal autoregressive integrated moving average (SARIMA) method')\n",
        "plt.show()"
      ],
      "execution_count": null,
      "outputs": [
        {
          "output_type": "display_data",
          "data": {
            "image/png": "[encoded data removed]",
            "text/plain": [
              "<Figure size 864x288 with 1 Axes>"
            ]
          },
          "metadata": {
            "needs_background": "light"
          }
        }
      ]
    },
    {
      "cell_type": "markdown",
      "metadata": {
        "id": "mNbVaWThE5pQ"
      },
      "source": [
        "### Calculate MAPE"
      ]
    },
    {
      "cell_type": "code",
      "metadata": {
        "id": "skiaSxxaE5pQ",
        "colab": {
          "base_uri": "https://localhost:8080/",
          "height": 421
        },
        "outputId": "94e39284-c65f-4ec1-ecf5-64a8b23b6726"
      },
      "source": [
        "mape = np.round(np.mean(np.abs(test['Sales']-y_hat_sarima['sarima_forecast'][test.index.min():])/test['Sales'])*100,2)\n",
        "\n",
        "\n",
        "tempResults = pd.DataFrame({'Method':['Seasonal autoregressive integrated moving average (SARIMA) method'], 'MAPE': [mape] })\n",
        "results = pd.concat([results, tempResults])\n",
        "results = results[['Method', 'MAPE']]\n",
        "results"
      ],
      "execution_count": null,
      "outputs": [
        {
          "output_type": "execute_result",
          "data": {
            "text/html": [
              "<div>\n",
              "<style scoped>\n",
              "    .dataframe tbody tr th:only-of-type {\n",
              "        vertical-align: middle;\n",
              "    }\n",
              "\n",
              "    .dataframe tbody tr th {\n",
              "        vertical-align: top;\n",
              "    }\n",
              "\n",
              "    .dataframe thead th {\n",
              "        text-align: right;\n",
              "    }\n",
              "</style>\n",
              "<table border=\"1\" class=\"dataframe\">\n",
              "  <thead>\n",
              "    <tr style=\"text-align: right;\">\n",
              "      <th></th>\n",
              "      <th>Method</th>\n",
              "      <th>MAPE</th>\n",
              "    </tr>\n",
              "  </thead>\n",
              "  <tbody>\n",
              "    <tr>\n",
              "      <th>0</th>\n",
              "      <td>Naive method</td>\n",
              "      <td>26.86</td>\n",
              "    </tr>\n",
              "    <tr>\n",
              "      <th>0</th>\n",
              "      <td>Simple average method</td>\n",
              "      <td>38.18</td>\n",
              "    </tr>\n",
              "    <tr>\n",
              "      <th>0</th>\n",
              "      <td>Simple moving average forecast</td>\n",
              "      <td>27.55</td>\n",
              "    </tr>\n",
              "    <tr>\n",
              "      <th>0</th>\n",
              "      <td>Simple exponential smoothing forecast</td>\n",
              "      <td>27.82</td>\n",
              "    </tr>\n",
              "    <tr>\n",
              "      <th>0</th>\n",
              "      <td>Holt's exponential smoothing method</td>\n",
              "      <td>24.98</td>\n",
              "    </tr>\n",
              "    <tr>\n",
              "      <th>0</th>\n",
              "      <td>Holt Winters' additive method</td>\n",
              "      <td>17.61</td>\n",
              "    </tr>\n",
              "    <tr>\n",
              "      <th>0</th>\n",
              "      <td>Holt Winters' multiplicative method</td>\n",
              "      <td>19.62</td>\n",
              "    </tr>\n",
              "    <tr>\n",
              "      <th>0</th>\n",
              "      <td>Autoregressive (AR) method</td>\n",
              "      <td>21.07</td>\n",
              "    </tr>\n",
              "    <tr>\n",
              "      <th>0</th>\n",
              "      <td>Moving Average (MA) method</td>\n",
              "      <td>85.78</td>\n",
              "    </tr>\n",
              "    <tr>\n",
              "      <th>0</th>\n",
              "      <td>Autoregressive moving average (ARMA) method</td>\n",
              "      <td>83.00</td>\n",
              "    </tr>\n",
              "    <tr>\n",
              "      <th>0</th>\n",
              "      <td>Autoregressive integrated moving average (ARIM...</td>\n",
              "      <td>77.66</td>\n",
              "    </tr>\n",
              "    <tr>\n",
              "      <th>0</th>\n",
              "      <td>Seasonal autoregressive integrated moving aver...</td>\n",
              "      <td>18.60</td>\n",
              "    </tr>\n",
              "  </tbody>\n",
              "</table>\n",
              "</div>"
            ],
            "text/plain": [
              "                                              Method   MAPE\n",
              "0                                       Naive method  26.86\n",
              "0                              Simple average method  38.18\n",
              "0                     Simple moving average forecast  27.55\n",
              "0              Simple exponential smoothing forecast  27.82\n",
              "0                Holt's exponential smoothing method  24.98\n",
              "0                      Holt Winters' additive method  17.61\n",
              "0                Holt Winters' multiplicative method  19.62\n",
              "0                         Autoregressive (AR) method  21.07\n",
              "0                         Moving Average (MA) method  85.78\n",
              "0        Autoregressive moving average (ARMA) method  83.00\n",
              "0  Autoregressive integrated moving average (ARIM...  77.66\n",
              "0  Seasonal autoregressive integrated moving aver...  18.60"
            ]
          },
          "metadata": {},
          "execution_count": 192
        }
      ]
    },
    {
      "cell_type": "markdown",
      "metadata": {
        "id": "Hu2331NqE5pR"
      },
      "source": [
        "P, D, Q values can be changed through trial and error. You will observe that SARIMA works better than the other regression models. "
      ]
    },
    {
      "cell_type": "code",
      "metadata": {
        "id": "dpMeYmXyE5pR"
      },
      "source": [
        ""
      ],
      "execution_count": null,
      "outputs": []
    }
  ]
}